{
  "cells": [
    {
      "cell_type": "markdown",
      "metadata": {
        "id": "view-in-github",
        "colab_type": "text"
      },
      "source": [
        "<a href=\"https://colab.research.google.com/github/salam2030/Compter_System_Engineering/blob/main/FYP_CODE_using_DLSTM.ipynb\" target=\"_parent\"><img src=\"https://colab.research.google.com/assets/colab-badge.svg\" alt=\"Open In Colab\"/></a>"
      ]
    },
    {
      "cell_type": "code",
      "execution_count": 1,
      "metadata": {
        "colab": {
          "base_uri": "https://localhost:8080/"
        },
        "collapsed": true,
        "id": "vreBCPT4FeoF",
        "outputId": "b49745a6-85e6-4b0d-f45d-0ea81d736cfc"
      },
      "outputs": [
        {
          "output_type": "stream",
          "name": "stdout",
          "text": [
            "Requirement already satisfied: yfinance in /usr/local/lib/python3.10/dist-packages (0.2.48)\n",
            "Requirement already satisfied: pandas>=1.3.0 in /usr/local/lib/python3.10/dist-packages (from yfinance) (2.2.2)\n",
            "Requirement already satisfied: numpy>=1.16.5 in /usr/local/lib/python3.10/dist-packages (from yfinance) (1.26.4)\n",
            "Requirement already satisfied: requests>=2.31 in /usr/local/lib/python3.10/dist-packages (from yfinance) (2.32.3)\n",
            "Requirement already satisfied: multitasking>=0.0.7 in /usr/local/lib/python3.10/dist-packages (from yfinance) (0.0.11)\n",
            "Requirement already satisfied: lxml>=4.9.1 in /usr/local/lib/python3.10/dist-packages (from yfinance) (5.3.0)\n",
            "Requirement already satisfied: platformdirs>=2.0.0 in /usr/local/lib/python3.10/dist-packages (from yfinance) (4.3.6)\n",
            "Requirement already satisfied: pytz>=2022.5 in /usr/local/lib/python3.10/dist-packages (from yfinance) (2024.2)\n",
            "Requirement already satisfied: frozendict>=2.3.4 in /usr/local/lib/python3.10/dist-packages (from yfinance) (2.4.6)\n",
            "Requirement already satisfied: peewee>=3.16.2 in /usr/local/lib/python3.10/dist-packages (from yfinance) (3.17.7)\n",
            "Requirement already satisfied: beautifulsoup4>=4.11.1 in /usr/local/lib/python3.10/dist-packages (from yfinance) (4.12.3)\n",
            "Requirement already satisfied: html5lib>=1.1 in /usr/local/lib/python3.10/dist-packages (from yfinance) (1.1)\n",
            "Requirement already satisfied: soupsieve>1.2 in /usr/local/lib/python3.10/dist-packages (from beautifulsoup4>=4.11.1->yfinance) (2.6)\n",
            "Requirement already satisfied: six>=1.9 in /usr/local/lib/python3.10/dist-packages (from html5lib>=1.1->yfinance) (1.16.0)\n",
            "Requirement already satisfied: webencodings in /usr/local/lib/python3.10/dist-packages (from html5lib>=1.1->yfinance) (0.5.1)\n",
            "Requirement already satisfied: python-dateutil>=2.8.2 in /usr/local/lib/python3.10/dist-packages (from pandas>=1.3.0->yfinance) (2.8.2)\n",
            "Requirement already satisfied: tzdata>=2022.7 in /usr/local/lib/python3.10/dist-packages (from pandas>=1.3.0->yfinance) (2024.2)\n",
            "Requirement already satisfied: charset-normalizer<4,>=2 in /usr/local/lib/python3.10/dist-packages (from requests>=2.31->yfinance) (3.4.0)\n",
            "Requirement already satisfied: idna<4,>=2.5 in /usr/local/lib/python3.10/dist-packages (from requests>=2.31->yfinance) (3.10)\n",
            "Requirement already satisfied: urllib3<3,>=1.21.1 in /usr/local/lib/python3.10/dist-packages (from requests>=2.31->yfinance) (2.2.3)\n",
            "Requirement already satisfied: certifi>=2017.4.17 in /usr/local/lib/python3.10/dist-packages (from requests>=2.31->yfinance) (2024.8.30)\n"
          ]
        }
      ],
      "source": [
        "!pip install yfinance"
      ]
    },
    {
      "cell_type": "code",
      "source": [
        "!pip install download"
      ],
      "metadata": {
        "colab": {
          "base_uri": "https://localhost:8080/"
        },
        "id": "BuX8POBvZ-HX",
        "outputId": "80621244-41fa-46b6-f14b-8d5f17003e32"
      },
      "execution_count": 6,
      "outputs": [
        {
          "output_type": "stream",
          "name": "stdout",
          "text": [
            "Requirement already satisfied: download in /usr/local/lib/python3.10/dist-packages (0.3.5)\n",
            "Requirement already satisfied: tqdm in /usr/local/lib/python3.10/dist-packages (from download) (4.66.6)\n",
            "Requirement already satisfied: six in /usr/local/lib/python3.10/dist-packages (from download) (1.16.0)\n",
            "Requirement already satisfied: requests in /usr/local/lib/python3.10/dist-packages (from download) (2.32.3)\n",
            "Requirement already satisfied: charset-normalizer<4,>=2 in /usr/local/lib/python3.10/dist-packages (from requests->download) (3.4.0)\n",
            "Requirement already satisfied: idna<4,>=2.5 in /usr/local/lib/python3.10/dist-packages (from requests->download) (3.10)\n",
            "Requirement already satisfied: urllib3<3,>=1.21.1 in /usr/local/lib/python3.10/dist-packages (from requests->download) (2.2.3)\n",
            "Requirement already satisfied: certifi>=2017.4.17 in /usr/local/lib/python3.10/dist-packages (from requests->download) (2024.8.30)\n"
          ]
        }
      ]
    },
    {
      "cell_type": "code",
      "source": [
        "!pip install keras"
      ],
      "metadata": {
        "colab": {
          "base_uri": "https://localhost:8080/"
        },
        "id": "WsEiHTyPBMDc",
        "outputId": "e29b4778-6ce4-41f0-e321-5855f9118e95"
      },
      "execution_count": 7,
      "outputs": [
        {
          "output_type": "stream",
          "name": "stdout",
          "text": [
            "Requirement already satisfied: keras in /usr/local/lib/python3.10/dist-packages (3.4.1)\n",
            "Requirement already satisfied: absl-py in /usr/local/lib/python3.10/dist-packages (from keras) (1.4.0)\n",
            "Requirement already satisfied: numpy in /usr/local/lib/python3.10/dist-packages (from keras) (1.26.4)\n",
            "Requirement already satisfied: rich in /usr/local/lib/python3.10/dist-packages (from keras) (13.9.3)\n",
            "Requirement already satisfied: namex in /usr/local/lib/python3.10/dist-packages (from keras) (0.0.8)\n",
            "Requirement already satisfied: h5py in /usr/local/lib/python3.10/dist-packages (from keras) (3.12.1)\n",
            "Requirement already satisfied: optree in /usr/local/lib/python3.10/dist-packages (from keras) (0.13.0)\n",
            "Requirement already satisfied: ml-dtypes in /usr/local/lib/python3.10/dist-packages (from keras) (0.4.1)\n",
            "Requirement already satisfied: packaging in /usr/local/lib/python3.10/dist-packages (from keras) (24.1)\n",
            "Requirement already satisfied: typing-extensions>=4.5.0 in /usr/local/lib/python3.10/dist-packages (from optree->keras) (4.12.2)\n",
            "Requirement already satisfied: markdown-it-py>=2.2.0 in /usr/local/lib/python3.10/dist-packages (from rich->keras) (3.0.0)\n",
            "Requirement already satisfied: pygments<3.0.0,>=2.13.0 in /usr/local/lib/python3.10/dist-packages (from rich->keras) (2.18.0)\n",
            "Requirement already satisfied: mdurl~=0.1 in /usr/local/lib/python3.10/dist-packages (from markdown-it-py>=2.2.0->rich->keras) (0.1.2)\n"
          ]
        }
      ]
    },
    {
      "cell_type": "code",
      "source": [
        "!pip install pandas-ta"
      ],
      "metadata": {
        "colab": {
          "base_uri": "https://localhost:8080/"
        },
        "id": "8hwd9TcANgL5",
        "outputId": "709c0f45-446f-4d0a-f905-59cede690837"
      },
      "execution_count": 8,
      "outputs": [
        {
          "output_type": "stream",
          "name": "stdout",
          "text": [
            "Requirement already satisfied: pandas-ta in /usr/local/lib/python3.10/dist-packages (0.3.14b0)\n",
            "Requirement already satisfied: pandas in /usr/local/lib/python3.10/dist-packages (from pandas-ta) (2.2.2)\n",
            "Requirement already satisfied: numpy>=1.22.4 in /usr/local/lib/python3.10/dist-packages (from pandas->pandas-ta) (1.26.4)\n",
            "Requirement already satisfied: python-dateutil>=2.8.2 in /usr/local/lib/python3.10/dist-packages (from pandas->pandas-ta) (2.8.2)\n",
            "Requirement already satisfied: pytz>=2020.1 in /usr/local/lib/python3.10/dist-packages (from pandas->pandas-ta) (2024.2)\n",
            "Requirement already satisfied: tzdata>=2022.7 in /usr/local/lib/python3.10/dist-packages (from pandas->pandas-ta) (2024.2)\n",
            "Requirement already satisfied: six>=1.5 in /usr/local/lib/python3.10/dist-packages (from python-dateutil>=2.8.2->pandas->pandas-ta) (1.16.0)\n"
          ]
        }
      ]
    },
    {
      "cell_type": "code",
      "execution_count": 9,
      "metadata": {
        "id": "Wyn2spJ7FaQ9"
      },
      "outputs": [],
      "source": [
        "import math\n",
        "import numpy as np\n",
        "import pandas as pd\n",
        "import tensorflow as tf\n",
        "import pandas_ta as ta\n",
        "from sklearn.preprocessing import MinMaxScaler\n",
        "from keras.models import Sequential\n",
        "from keras.layers import Dense, LSTM, Dropout\n",
        "from tensorflow.keras.callbacks import EarlyStopping\n",
        "import matplotlib.pyplot as plt\n",
        "from sklearn.impute import SimpleImputer\n",
        "from sklearn.preprocessing import StandardScaler\n",
        "from sklearn.preprocessing import RobustScaler\n",
        "from sklearn.preprocessing import MinMaxScaler\n",
        "from sklearn.preprocessing import MaxAbsScaler\n",
        "from sklearn.preprocessing import QuantileTransformer\n",
        "from sklearn.preprocessing import PowerTransformer"
      ]
    },
    {
      "cell_type": "code",
      "execution_count": 10,
      "metadata": {
        "id": "uQEeWUuGFnd5"
      },
      "outputs": [],
      "source": [
        "import yfinance as yf\n",
        "from datetime import datetime"
      ]
    },
    {
      "cell_type": "code",
      "execution_count": 11,
      "metadata": {
        "id": "vlu-7CS4FsoG"
      },
      "outputs": [],
      "source": [
        "# Set the start and end dates\n",
        "start = datetime(2014,1,1)\n",
        "end = datetime.now().date().isoformat()\n",
        "symbol = 'BTC-USD'\n"
      ]
    },
    {
      "cell_type": "code",
      "source": [
        "df = yf.download(symbol,start=start,end = end)\n",
        "df.shape"
      ],
      "metadata": {
        "colab": {
          "base_uri": "https://localhost:8080/"
        },
        "id": "e45FMg1UcV5G",
        "outputId": "0d82c27c-9096-4cfd-e77f-9665fc51c581"
      },
      "execution_count": 12,
      "outputs": [
        {
          "output_type": "stream",
          "name": "stderr",
          "text": [
            "\r[*********************100%***********************]  1 of 1 completed\n"
          ]
        },
        {
          "output_type": "execute_result",
          "data": {
            "text/plain": [
              "(3699, 6)"
            ]
          },
          "metadata": {},
          "execution_count": 12
        }
      ]
    },
    {
      "cell_type": "code",
      "source": [
        "df.head()"
      ],
      "metadata": {
        "colab": {
          "base_uri": "https://localhost:8080/",
          "height": 269
        },
        "id": "ZIRmD_6pdXRA",
        "outputId": "5b4adc52-b1f1-403a-d115-a99acc4a7854"
      },
      "execution_count": null,
      "outputs": [
        {
          "output_type": "execute_result",
          "data": {
            "text/plain": [
              "Price                       Adj Close       Close        High         Low  \\\n",
              "Ticker                        BTC-USD     BTC-USD     BTC-USD     BTC-USD   \n",
              "Date                                                                        \n",
              "2014-09-17 00:00:00+00:00  457.334015  457.334015  468.174011  452.421997   \n",
              "2014-09-18 00:00:00+00:00  424.440002  424.440002  456.859985  413.104004   \n",
              "2014-09-19 00:00:00+00:00  394.795990  394.795990  427.834991  384.532013   \n",
              "2014-09-20 00:00:00+00:00  408.903992  408.903992  423.295990  389.882996   \n",
              "2014-09-21 00:00:00+00:00  398.821014  398.821014  412.425995  393.181000   \n",
              "\n",
              "Price                            Open    Volume  \n",
              "Ticker                        BTC-USD   BTC-USD  \n",
              "Date                                             \n",
              "2014-09-17 00:00:00+00:00  465.864014  21056800  \n",
              "2014-09-18 00:00:00+00:00  456.859985  34483200  \n",
              "2014-09-19 00:00:00+00:00  424.102997  37919700  \n",
              "2014-09-20 00:00:00+00:00  394.673004  36863600  \n",
              "2014-09-21 00:00:00+00:00  408.084991  26580100  "
            ],
            "text/html": [
              "\n",
              "  <div id=\"df-013b0900-63d0-4470-8e05-401b395aaa35\" class=\"colab-df-container\">\n",
              "    <div>\n",
              "<style scoped>\n",
              "    .dataframe tbody tr th:only-of-type {\n",
              "        vertical-align: middle;\n",
              "    }\n",
              "\n",
              "    .dataframe tbody tr th {\n",
              "        vertical-align: top;\n",
              "    }\n",
              "\n",
              "    .dataframe thead tr th {\n",
              "        text-align: left;\n",
              "    }\n",
              "\n",
              "    .dataframe thead tr:last-of-type th {\n",
              "        text-align: right;\n",
              "    }\n",
              "</style>\n",
              "<table border=\"1\" class=\"dataframe\">\n",
              "  <thead>\n",
              "    <tr>\n",
              "      <th>Price</th>\n",
              "      <th>Adj Close</th>\n",
              "      <th>Close</th>\n",
              "      <th>High</th>\n",
              "      <th>Low</th>\n",
              "      <th>Open</th>\n",
              "      <th>Volume</th>\n",
              "    </tr>\n",
              "    <tr>\n",
              "      <th>Ticker</th>\n",
              "      <th>BTC-USD</th>\n",
              "      <th>BTC-USD</th>\n",
              "      <th>BTC-USD</th>\n",
              "      <th>BTC-USD</th>\n",
              "      <th>BTC-USD</th>\n",
              "      <th>BTC-USD</th>\n",
              "    </tr>\n",
              "    <tr>\n",
              "      <th>Date</th>\n",
              "      <th></th>\n",
              "      <th></th>\n",
              "      <th></th>\n",
              "      <th></th>\n",
              "      <th></th>\n",
              "      <th></th>\n",
              "    </tr>\n",
              "  </thead>\n",
              "  <tbody>\n",
              "    <tr>\n",
              "      <th>2014-09-17 00:00:00+00:00</th>\n",
              "      <td>457.334015</td>\n",
              "      <td>457.334015</td>\n",
              "      <td>468.174011</td>\n",
              "      <td>452.421997</td>\n",
              "      <td>465.864014</td>\n",
              "      <td>21056800</td>\n",
              "    </tr>\n",
              "    <tr>\n",
              "      <th>2014-09-18 00:00:00+00:00</th>\n",
              "      <td>424.440002</td>\n",
              "      <td>424.440002</td>\n",
              "      <td>456.859985</td>\n",
              "      <td>413.104004</td>\n",
              "      <td>456.859985</td>\n",
              "      <td>34483200</td>\n",
              "    </tr>\n",
              "    <tr>\n",
              "      <th>2014-09-19 00:00:00+00:00</th>\n",
              "      <td>394.795990</td>\n",
              "      <td>394.795990</td>\n",
              "      <td>427.834991</td>\n",
              "      <td>384.532013</td>\n",
              "      <td>424.102997</td>\n",
              "      <td>37919700</td>\n",
              "    </tr>\n",
              "    <tr>\n",
              "      <th>2014-09-20 00:00:00+00:00</th>\n",
              "      <td>408.903992</td>\n",
              "      <td>408.903992</td>\n",
              "      <td>423.295990</td>\n",
              "      <td>389.882996</td>\n",
              "      <td>394.673004</td>\n",
              "      <td>36863600</td>\n",
              "    </tr>\n",
              "    <tr>\n",
              "      <th>2014-09-21 00:00:00+00:00</th>\n",
              "      <td>398.821014</td>\n",
              "      <td>398.821014</td>\n",
              "      <td>412.425995</td>\n",
              "      <td>393.181000</td>\n",
              "      <td>408.084991</td>\n",
              "      <td>26580100</td>\n",
              "    </tr>\n",
              "  </tbody>\n",
              "</table>\n",
              "</div>\n",
              "    <div class=\"colab-df-buttons\">\n",
              "\n",
              "  <div class=\"colab-df-container\">\n",
              "    <button class=\"colab-df-convert\" onclick=\"convertToInteractive('df-013b0900-63d0-4470-8e05-401b395aaa35')\"\n",
              "            title=\"Convert this dataframe to an interactive table.\"\n",
              "            style=\"display:none;\">\n",
              "\n",
              "  <svg xmlns=\"http://www.w3.org/2000/svg\" height=\"24px\" viewBox=\"0 -960 960 960\">\n",
              "    <path d=\"M120-120v-720h720v720H120Zm60-500h600v-160H180v160Zm220 220h160v-160H400v160Zm0 220h160v-160H400v160ZM180-400h160v-160H180v160Zm440 0h160v-160H620v160ZM180-180h160v-160H180v160Zm440 0h160v-160H620v160Z\"/>\n",
              "  </svg>\n",
              "    </button>\n",
              "\n",
              "  <style>\n",
              "    .colab-df-container {\n",
              "      display:flex;\n",
              "      gap: 12px;\n",
              "    }\n",
              "\n",
              "    .colab-df-convert {\n",
              "      background-color: #E8F0FE;\n",
              "      border: none;\n",
              "      border-radius: 50%;\n",
              "      cursor: pointer;\n",
              "      display: none;\n",
              "      fill: #1967D2;\n",
              "      height: 32px;\n",
              "      padding: 0 0 0 0;\n",
              "      width: 32px;\n",
              "    }\n",
              "\n",
              "    .colab-df-convert:hover {\n",
              "      background-color: #E2EBFA;\n",
              "      box-shadow: 0px 1px 2px rgba(60, 64, 67, 0.3), 0px 1px 3px 1px rgba(60, 64, 67, 0.15);\n",
              "      fill: #174EA6;\n",
              "    }\n",
              "\n",
              "    .colab-df-buttons div {\n",
              "      margin-bottom: 4px;\n",
              "    }\n",
              "\n",
              "    [theme=dark] .colab-df-convert {\n",
              "      background-color: #3B4455;\n",
              "      fill: #D2E3FC;\n",
              "    }\n",
              "\n",
              "    [theme=dark] .colab-df-convert:hover {\n",
              "      background-color: #434B5C;\n",
              "      box-shadow: 0px 1px 3px 1px rgba(0, 0, 0, 0.15);\n",
              "      filter: drop-shadow(0px 1px 2px rgba(0, 0, 0, 0.3));\n",
              "      fill: #FFFFFF;\n",
              "    }\n",
              "  </style>\n",
              "\n",
              "    <script>\n",
              "      const buttonEl =\n",
              "        document.querySelector('#df-013b0900-63d0-4470-8e05-401b395aaa35 button.colab-df-convert');\n",
              "      buttonEl.style.display =\n",
              "        google.colab.kernel.accessAllowed ? 'block' : 'none';\n",
              "\n",
              "      async function convertToInteractive(key) {\n",
              "        const element = document.querySelector('#df-013b0900-63d0-4470-8e05-401b395aaa35');\n",
              "        const dataTable =\n",
              "          await google.colab.kernel.invokeFunction('convertToInteractive',\n",
              "                                                    [key], {});\n",
              "        if (!dataTable) return;\n",
              "\n",
              "        const docLinkHtml = 'Like what you see? Visit the ' +\n",
              "          '<a target=\"_blank\" href=https://colab.research.google.com/notebooks/data_table.ipynb>data table notebook</a>'\n",
              "          + ' to learn more about interactive tables.';\n",
              "        element.innerHTML = '';\n",
              "        dataTable['output_type'] = 'display_data';\n",
              "        await google.colab.output.renderOutput(dataTable, element);\n",
              "        const docLink = document.createElement('div');\n",
              "        docLink.innerHTML = docLinkHtml;\n",
              "        element.appendChild(docLink);\n",
              "      }\n",
              "    </script>\n",
              "  </div>\n",
              "\n",
              "\n",
              "<div id=\"df-0e62b48d-4152-4078-aa93-c9cd8b842dd4\">\n",
              "  <button class=\"colab-df-quickchart\" onclick=\"quickchart('df-0e62b48d-4152-4078-aa93-c9cd8b842dd4')\"\n",
              "            title=\"Suggest charts\"\n",
              "            style=\"display:none;\">\n",
              "\n",
              "<svg xmlns=\"http://www.w3.org/2000/svg\" height=\"24px\"viewBox=\"0 0 24 24\"\n",
              "     width=\"24px\">\n",
              "    <g>\n",
              "        <path d=\"M19 3H5c-1.1 0-2 .9-2 2v14c0 1.1.9 2 2 2h14c1.1 0 2-.9 2-2V5c0-1.1-.9-2-2-2zM9 17H7v-7h2v7zm4 0h-2V7h2v10zm4 0h-2v-4h2v4z\"/>\n",
              "    </g>\n",
              "</svg>\n",
              "  </button>\n",
              "\n",
              "<style>\n",
              "  .colab-df-quickchart {\n",
              "      --bg-color: #E8F0FE;\n",
              "      --fill-color: #1967D2;\n",
              "      --hover-bg-color: #E2EBFA;\n",
              "      --hover-fill-color: #174EA6;\n",
              "      --disabled-fill-color: #AAA;\n",
              "      --disabled-bg-color: #DDD;\n",
              "  }\n",
              "\n",
              "  [theme=dark] .colab-df-quickchart {\n",
              "      --bg-color: #3B4455;\n",
              "      --fill-color: #D2E3FC;\n",
              "      --hover-bg-color: #434B5C;\n",
              "      --hover-fill-color: #FFFFFF;\n",
              "      --disabled-bg-color: #3B4455;\n",
              "      --disabled-fill-color: #666;\n",
              "  }\n",
              "\n",
              "  .colab-df-quickchart {\n",
              "    background-color: var(--bg-color);\n",
              "    border: none;\n",
              "    border-radius: 50%;\n",
              "    cursor: pointer;\n",
              "    display: none;\n",
              "    fill: var(--fill-color);\n",
              "    height: 32px;\n",
              "    padding: 0;\n",
              "    width: 32px;\n",
              "  }\n",
              "\n",
              "  .colab-df-quickchart:hover {\n",
              "    background-color: var(--hover-bg-color);\n",
              "    box-shadow: 0 1px 2px rgba(60, 64, 67, 0.3), 0 1px 3px 1px rgba(60, 64, 67, 0.15);\n",
              "    fill: var(--button-hover-fill-color);\n",
              "  }\n",
              "\n",
              "  .colab-df-quickchart-complete:disabled,\n",
              "  .colab-df-quickchart-complete:disabled:hover {\n",
              "    background-color: var(--disabled-bg-color);\n",
              "    fill: var(--disabled-fill-color);\n",
              "    box-shadow: none;\n",
              "  }\n",
              "\n",
              "  .colab-df-spinner {\n",
              "    border: 2px solid var(--fill-color);\n",
              "    border-color: transparent;\n",
              "    border-bottom-color: var(--fill-color);\n",
              "    animation:\n",
              "      spin 1s steps(1) infinite;\n",
              "  }\n",
              "\n",
              "  @keyframes spin {\n",
              "    0% {\n",
              "      border-color: transparent;\n",
              "      border-bottom-color: var(--fill-color);\n",
              "      border-left-color: var(--fill-color);\n",
              "    }\n",
              "    20% {\n",
              "      border-color: transparent;\n",
              "      border-left-color: var(--fill-color);\n",
              "      border-top-color: var(--fill-color);\n",
              "    }\n",
              "    30% {\n",
              "      border-color: transparent;\n",
              "      border-left-color: var(--fill-color);\n",
              "      border-top-color: var(--fill-color);\n",
              "      border-right-color: var(--fill-color);\n",
              "    }\n",
              "    40% {\n",
              "      border-color: transparent;\n",
              "      border-right-color: var(--fill-color);\n",
              "      border-top-color: var(--fill-color);\n",
              "    }\n",
              "    60% {\n",
              "      border-color: transparent;\n",
              "      border-right-color: var(--fill-color);\n",
              "    }\n",
              "    80% {\n",
              "      border-color: transparent;\n",
              "      border-right-color: var(--fill-color);\n",
              "      border-bottom-color: var(--fill-color);\n",
              "    }\n",
              "    90% {\n",
              "      border-color: transparent;\n",
              "      border-bottom-color: var(--fill-color);\n",
              "    }\n",
              "  }\n",
              "</style>\n",
              "\n",
              "  <script>\n",
              "    async function quickchart(key) {\n",
              "      const quickchartButtonEl =\n",
              "        document.querySelector('#' + key + ' button');\n",
              "      quickchartButtonEl.disabled = true;  // To prevent multiple clicks.\n",
              "      quickchartButtonEl.classList.add('colab-df-spinner');\n",
              "      try {\n",
              "        const charts = await google.colab.kernel.invokeFunction(\n",
              "            'suggestCharts', [key], {});\n",
              "      } catch (error) {\n",
              "        console.error('Error during call to suggestCharts:', error);\n",
              "      }\n",
              "      quickchartButtonEl.classList.remove('colab-df-spinner');\n",
              "      quickchartButtonEl.classList.add('colab-df-quickchart-complete');\n",
              "    }\n",
              "    (() => {\n",
              "      let quickchartButtonEl =\n",
              "        document.querySelector('#df-0e62b48d-4152-4078-aa93-c9cd8b842dd4 button');\n",
              "      quickchartButtonEl.style.display =\n",
              "        google.colab.kernel.accessAllowed ? 'block' : 'none';\n",
              "    })();\n",
              "  </script>\n",
              "</div>\n",
              "\n",
              "    </div>\n",
              "  </div>\n"
            ],
            "application/vnd.google.colaboratory.intrinsic+json": {
              "type": "dataframe",
              "variable_name": "df",
              "summary": "{\n  \"name\": \"df\",\n  \"rows\": 3693,\n  \"fields\": [\n    {\n      \"column\": [\n        \"Date\",\n        \"\"\n      ],\n      \"properties\": {\n        \"dtype\": \"date\",\n        \"min\": \"2014-09-17 00:00:00+00:00\",\n        \"max\": \"2024-10-26 00:00:00+00:00\",\n        \"num_unique_values\": 3693,\n        \"samples\": [\n          \"2015-10-15 00:00:00+00:00\",\n          \"2024-06-16 00:00:00+00:00\",\n          \"2016-03-21 00:00:00+00:00\"\n        ],\n        \"semantic_type\": \"\",\n        \"description\": \"\"\n      }\n    },\n    {\n      \"column\": [\n        \"Adj Close\",\n        \"BTC-USD\"\n      ],\n      \"properties\": {\n        \"dtype\": \"number\",\n        \"std\": 20095.207242918514,\n        \"min\": 178.10299682617188,\n        \"max\": 73083.5,\n        \"num_unique_values\": 3690,\n        \"samples\": [\n          66639.046875,\n          66201.015625,\n          410.2619934082031\n        ],\n        \"semantic_type\": \"\",\n        \"description\": \"\"\n      }\n    },\n    {\n      \"column\": [\n        \"Close\",\n        \"BTC-USD\"\n      ],\n      \"properties\": {\n        \"dtype\": \"number\",\n        \"std\": 20095.207242918514,\n        \"min\": 178.10299682617188,\n        \"max\": 73083.5,\n        \"num_unique_values\": 3690,\n        \"samples\": [\n          66639.046875,\n          66201.015625,\n          410.2619934082031\n        ],\n        \"semantic_type\": \"\",\n        \"description\": \"\"\n      }\n    },\n    {\n      \"column\": [\n        \"High\",\n        \"BTC-USD\"\n      ],\n      \"properties\": {\n        \"dtype\": \"number\",\n        \"std\": 20522.879205940273,\n        \"min\": 211.7310028076172,\n        \"max\": 73750.0703125,\n        \"num_unique_values\": 3690,\n        \"samples\": [\n          66894.84375,\n          66987.671875,\n          410.4100036621094\n        ],\n        \"semantic_type\": \"\",\n        \"description\": \"\"\n      }\n    },\n    {\n      \"column\": [\n        \"Low\",\n        \"BTC-USD\"\n      ],\n      \"properties\": {\n        \"dtype\": \"number\",\n        \"std\": 19607.417533974367,\n        \"min\": 171.50999450683594,\n        \"max\": 71334.09375,\n        \"num_unique_values\": 3691,\n        \"samples\": [\n          252.04600524902344,\n          66018.25,\n          412.531005859375\n        ],\n        \"semantic_type\": \"\",\n        \"description\": \"\"\n      }\n    },\n    {\n      \"column\": [\n        \"Open\",\n        \"BTC-USD\"\n      ],\n      \"properties\": {\n        \"dtype\": \"number\",\n        \"std\": 20083.290507770587,\n        \"min\": 176.89700317382812,\n        \"max\": 73079.375,\n        \"num_unique_values\": 3689,\n        \"samples\": [\n          66636.515625,\n          66201.2734375,\n          409.7510070800781\n        ],\n        \"semantic_type\": \"\",\n        \"description\": \"\"\n      }\n    },\n    {\n      \"column\": [\n        \"Volume\",\n        \"BTC-USD\"\n      ],\n      \"properties\": {\n        \"dtype\": \"number\",\n        \"std\": 19144890913,\n        \"min\": 5914570,\n        \"max\": 350967941479,\n        \"num_unique_values\": 3693,\n        \"samples\": [\n          25223500,\n          13281140541,\n          61655400\n        ],\n        \"semantic_type\": \"\",\n        \"description\": \"\"\n      }\n    }\n  ]\n}"
            }
          },
          "metadata": {},
          "execution_count": 15
        }
      ]
    },
    {
      "cell_type": "code",
      "execution_count": null,
      "metadata": {
        "colab": {
          "base_uri": "https://localhost:8080/"
        },
        "id": "Y7EgefAEGUJ0",
        "outputId": "05f7c7b7-58e1-4558-fa83-f093cbc8982a"
      },
      "outputs": [
        {
          "output_type": "execute_result",
          "data": {
            "text/plain": [
              "(3692, 9)"
            ]
          },
          "metadata": {},
          "execution_count": 37
        }
      ],
      "source": [
        "df.shape"
      ]
    },
    {
      "cell_type": "code",
      "execution_count": null,
      "metadata": {
        "colab": {
          "base_uri": "https://localhost:8080/"
        },
        "id": "2aiR8hlYHTW_",
        "outputId": "713abb47-770a-43b3-e7d8-05b3c7fb3cd1"
      },
      "outputs": [
        {
          "output_type": "stream",
          "name": "stdout",
          "text": [
            "Dataset shape: (3694, 6)\n"
          ]
        }
      ],
      "source": [
        "print(\"Dataset shape:\", df.shape)"
      ]
    },
    {
      "cell_type": "code",
      "execution_count": 13,
      "metadata": {
        "colab": {
          "base_uri": "https://localhost:8080/"
        },
        "id": "x1FPcXC-Hr24",
        "outputId": "ff5e756b-3638-4353-a310-a37797372a59"
      },
      "outputs": [
        {
          "output_type": "stream",
          "name": "stdout",
          "text": [
            "Ticker\n",
            "BTC-USD    0\n",
            "dtype: int64\n"
          ]
        }
      ],
      "source": [
        "new_var = print(df['Close'].isnull().sum())\n",
        "new_var"
      ]
    },
    {
      "cell_type": "code",
      "execution_count": 14,
      "metadata": {
        "colab": {
          "base_uri": "https://localhost:8080/"
        },
        "id": "GD-X-k9HF0Rx",
        "outputId": "0dc982bb-499f-4437-d596-82c9443e05b6"
      },
      "outputs": [
        {
          "output_type": "execute_result",
          "data": {
            "text/plain": [
              "(3699, 1)"
            ]
          },
          "metadata": {},
          "execution_count": 14
        }
      ],
      "source": [
        "# Filter the dataframe to include only the Close price\n",
        "data = df['Close']\n",
        "dataset = data.values\n",
        "np.shape(dataset)"
      ]
    },
    {
      "cell_type": "code",
      "execution_count": 15,
      "metadata": {
        "colab": {
          "base_uri": "https://localhost:8080/"
        },
        "id": "bTQs0MR-F6wn",
        "outputId": "fd50e6ac-e459-4e69-e8db-7d49d70eaef4"
      },
      "outputs": [
        {
          "output_type": "execute_result",
          "data": {
            "text/plain": [
              "2960"
            ]
          },
          "metadata": {},
          "execution_count": 15
        }
      ],
      "source": [
        "\n",
        "# Define the percentage of the data to be used for training (80% in this case)\n",
        "training_data_len = math.ceil(len(dataset) * 0.8)\n",
        "training_data_len"
      ]
    },
    {
      "cell_type": "code",
      "execution_count": 16,
      "metadata": {
        "colab": {
          "base_uri": "https://localhost:8080/"
        },
        "collapsed": true,
        "id": "XSR722xTWevo",
        "outputId": "72ec9dc5-ec37-4795-9030-4b4f3b8093dd"
      },
      "outputs": [
        {
          "output_type": "execute_result",
          "data": {
            "text/plain": [
              "array([[0.00383005],\n",
              "       [0.00337886],\n",
              "       [0.00297225],\n",
              "       ...,\n",
              "       [0.98979553],\n",
              "       [0.96065706],\n",
              "       [0.95060679]])"
            ]
          },
          "metadata": {},
          "execution_count": 16
        }
      ],
      "source": [
        "scaler = StandardScaler()\n",
        "scaled_data = scaler.fit(dataset)\n",
        "# Normalize each column manually\n",
        "dataset_normalized = (dataset - dataset.min()) / (dataset.max() - dataset.min())\n",
        "dataset_normalized\n"
      ]
    },
    {
      "cell_type": "code",
      "execution_count": 17,
      "metadata": {
        "colab": {
          "base_uri": "https://localhost:8080/"
        },
        "id": "ZEI0w8KeGAHQ",
        "outputId": "77d4cf53-5a2d-44e7-fe46-9ee8e75284c9"
      },
      "outputs": [
        {
          "output_type": "stream",
          "name": "stdout",
          "text": [
            "[array([457.33401489, 424.44000244, 394.79598999, 408.9039917 ,\n",
            "       398.8210144 , 402.15200806, 435.79098511, 423.20498657,\n",
            "       411.57400513, 404.42498779, 399.51998901, 377.18099976,\n",
            "       375.4670105 , 386.94400024, 383.61499023, 375.07199097,\n",
            "       359.51199341, 328.86599731, 320.51000977, 330.07901001,\n",
            "       336.18701172, 352.94000244, 365.02600098, 361.56201172,\n",
            "       362.29901123, 378.54901123, 390.41400146, 400.86999512,\n",
            "       394.77301025, 382.55599976, 383.75799561, 391.44198608,\n",
            "       389.54598999, 382.84500122, 386.4750061 , 383.1579895 ,\n",
            "       358.41699219, 358.34500122, 347.27099609, 354.70401001,\n",
            "       352.98901367, 357.61801147, 335.59100342, 345.30499268,\n",
            "       338.3210144 , 325.74899292, 325.89199829, 327.5539856 ,\n",
            "       330.49200439, 339.48599243, 349.29000854, 342.41500854,\n",
            "       345.48800659, 363.26400757, 366.92401123, 367.69500732,\n",
            "       423.56100464, 420.73498535, 397.81799316, 376.13299561])]\n",
            "[387.8819885253906]\n",
            "\n"
          ]
        }
      ],
      "source": [
        "# Create the training dataset\n",
        "train_data = dataset[0:training_data_len, :]\n",
        "\n",
        "# Create X_train and y_train datasets\n",
        "X_train = []\n",
        "y_train = []\n",
        "for i in range(60, len(train_data)):\n",
        "    X_train.append(train_data[i-60:i, 0])\n",
        "    y_train.append(train_data[i, 0])\n",
        "\n",
        "    if i <= 60:\n",
        "        print(X_train)\n",
        "        print(y_train)\n",
        "        print()\n",
        "\n",
        "X_train, y_train = np.array(X_train), np.array(y_train)"
      ]
    },
    {
      "cell_type": "code",
      "source": [
        "# Data Augmentation: Adding noise\n",
        "#noise_factor = 0.01\n",
        "#X_train_noisy = X_train + noise_factor * np.random.normal(loc=0.0, scale=1.0, size=X_train.shape)"
      ],
      "metadata": {
        "id": "Fyb8mJVgXn0n"
      },
      "execution_count": null,
      "outputs": []
    },
    {
      "cell_type": "code",
      "source": [
        "# Combine original and noisy data for training\n",
        "#X_train_augmented = np.concatenate((X_train, X_train_noisy), axis=0)\n",
        "#y_train_augmented = np.concatenate((y_train, y_train), axis=0)  # Duplicate labels for augmented data"
      ],
      "metadata": {
        "id": "B9TdVh7dX0dJ"
      },
      "execution_count": null,
      "outputs": []
    },
    {
      "cell_type": "code",
      "source": [
        "#X_train_augmented.shape\n"
      ],
      "metadata": {
        "colab": {
          "base_uri": "https://localhost:8080/"
        },
        "id": "nE8OtGhTZFva",
        "outputId": "a0c8a16e-3bd3-465e-b7d1-693ee00a6830"
      },
      "execution_count": null,
      "outputs": [
        {
          "output_type": "execute_result",
          "data": {
            "text/plain": [
              "(5792, 60)"
            ]
          },
          "metadata": {},
          "execution_count": 32
        }
      ]
    },
    {
      "cell_type": "code",
      "source": [
        "#y_train_augmented.shape"
      ],
      "metadata": {
        "colab": {
          "base_uri": "https://localhost:8080/"
        },
        "id": "8Wdn3Mnt-9Fi",
        "outputId": "ae1ffbd7-d9cc-4fa2-d614-a951c208d3a7"
      },
      "execution_count": null,
      "outputs": [
        {
          "output_type": "execute_result",
          "data": {
            "text/plain": [
              "(5792,)"
            ]
          },
          "metadata": {},
          "execution_count": 26
        }
      ]
    },
    {
      "cell_type": "code",
      "source": [
        "y_train.shape"
      ],
      "metadata": {
        "colab": {
          "base_uri": "https://localhost:8080/"
        },
        "id": "y3Hk-G_eey7Y",
        "outputId": "709c455a-2b2b-4271-e60b-4a6d3ad85d80"
      },
      "execution_count": null,
      "outputs": [
        {
          "output_type": "execute_result",
          "data": {
            "text/plain": [
              "(2896,)"
            ]
          },
          "metadata": {},
          "execution_count": 18
        }
      ]
    },
    {
      "cell_type": "code",
      "source": [
        "X_train.shape"
      ],
      "metadata": {
        "colab": {
          "base_uri": "https://localhost:8080/"
        },
        "id": "Ok2QA1sSe4FC",
        "outputId": "219178e9-f780-4096-e111-71f71618cee4"
      },
      "execution_count": null,
      "outputs": [
        {
          "output_type": "execute_result",
          "data": {
            "text/plain": [
              "(2896, 60)"
            ]
          },
          "metadata": {},
          "execution_count": 20
        }
      ]
    },
    {
      "cell_type": "code",
      "execution_count": null,
      "metadata": {
        "colab": {
          "base_uri": "https://localhost:8080/"
        },
        "id": "Vmbb_98XmIeM",
        "outputId": "150b66ac-7521-4b73-df1e-dc883723172f"
      },
      "outputs": [
        {
          "output_type": "execute_result",
          "data": {
            "text/plain": [
              "2896"
            ]
          },
          "metadata": {},
          "execution_count": 21
        }
      ],
      "source": [
        "len(X_train)"
      ]
    },
    {
      "cell_type": "code",
      "source": [
        "len(y_train)"
      ],
      "metadata": {
        "colab": {
          "base_uri": "https://localhost:8080/"
        },
        "id": "Bnz_dJRKBk6b",
        "outputId": "49413cdd-6a99-4eb4-89ff-35175e26ec0c"
      },
      "execution_count": null,
      "outputs": [
        {
          "output_type": "execute_result",
          "data": {
            "text/plain": [
              "2896"
            ]
          },
          "metadata": {},
          "execution_count": 22
        }
      ]
    },
    {
      "cell_type": "code",
      "execution_count": 18,
      "metadata": {
        "id": "jvrjKC3JmLpd",
        "colab": {
          "base_uri": "https://localhost:8080/"
        },
        "outputId": "c1f84bbd-7dbb-4f0f-8c63-6004d95c8864"
      },
      "outputs": [
        {
          "output_type": "execute_result",
          "data": {
            "text/plain": [
              "(2900, 60, 1)"
            ]
          },
          "metadata": {},
          "execution_count": 18
        }
      ],
      "source": [
        " # Reshape the data for LSTM\n",
        "X_train_augmente = np.reshape(X_train, (X_train.shape[0], X_train.shape[1], 1))\n",
        "X_train_augmente.shape"
      ]
    },
    {
      "cell_type": "code",
      "execution_count": 19,
      "metadata": {
        "colab": {
          "base_uri": "https://localhost:8080/"
        },
        "id": "YV49crvIoMaP",
        "outputId": "4b1005f5-79fd-4c31-f434-e99b6d48d786",
        "collapsed": true
      },
      "outputs": [
        {
          "output_type": "stream",
          "name": "stdout",
          "text": [
            "[array([20260.01953125, 20041.73828125, 19616.81445312, 20297.99414062,\n",
            "       19796.80859375, 20049.76367188, 20127.140625  , 19969.77148438,\n",
            "       19832.08789062, 19986.71289062, 19812.37109375, 18837.66796875,\n",
            "       19290.32421875, 19329.83398438, 21381.15234375, 21680.5390625 ,\n",
            "       21769.25585938, 22370.44921875, 20296.70703125, 20241.08984375,\n",
            "       19701.2109375 , 19772.58398438, 20127.57617188, 19419.50585938,\n",
            "       19544.12890625, 18890.7890625 , 18547.40039062, 19413.55078125,\n",
            "       19297.63867188, 18937.01171875, 18802.09765625, 19222.671875  ,\n",
            "       19110.546875  , 19426.72070312, 19573.05078125, 19431.7890625 ,\n",
            "       19312.09570312, 19044.10742188, 19623.58007812, 20336.84375   ,\n",
            "       20160.71679688, 19955.44335938, 19546.84960938, 19416.56835938,\n",
            "       19446.42578125, 19141.484375  , 19051.41796875, 19157.4453125 ,\n",
            "       19382.90429688, 19185.65625   , 19067.63476562, 19268.09375   ,\n",
            "       19550.7578125 , 19334.41601562, 19139.53515625, 19053.74023438,\n",
            "       19172.46875   , 19208.18945312, 19567.0078125 , 19345.57226562])]\n",
            "[[20095.85742188]\n",
            " [20770.44140625]\n",
            " [20285.8359375 ]\n",
            " [20595.3515625 ]\n",
            " [20818.4765625 ]\n",
            " [20635.60351562]\n",
            " [20495.7734375 ]\n",
            " [20485.2734375 ]\n",
            " [20159.50390625]\n",
            " [20209.98828125]\n",
            " [21147.23046875]\n",
            " [21282.69140625]\n",
            " [20926.48632812]\n",
            " [20602.81640625]\n",
            " [18541.27148438]\n",
            " [15880.78027344]\n",
            " [17586.77148438]\n",
            " [17034.29296875]\n",
            " [16799.18554688]\n",
            " [16353.36523438]\n",
            " [16618.19921875]\n",
            " [16884.61328125]\n",
            " [16669.43945312]\n",
            " [16687.51757812]\n",
            " [16697.77734375]\n",
            " [16711.546875  ]\n",
            " [16291.83203125]\n",
            " [15787.28417969]\n",
            " [16189.76953125]\n",
            " [16610.70703125]\n",
            " [16604.46484375]\n",
            " [16521.84179688]\n",
            " [16464.28125   ]\n",
            " [16444.62695312]\n",
            " [16217.32226562]\n",
            " [16444.98242188]\n",
            " [17168.56640625]\n",
            " [16967.1328125 ]\n",
            " [17088.66015625]\n",
            " [16908.23632812]\n",
            " [17130.48632812]\n",
            " [16974.82617188]\n",
            " [17089.50390625]\n",
            " [16848.12695312]\n",
            " [17233.47460938]\n",
            " [17133.15234375]\n",
            " [17128.72460938]\n",
            " [17104.19335938]\n",
            " [17206.4375    ]\n",
            " [17781.31835938]\n",
            " [17815.65039062]\n",
            " [17364.86523438]\n",
            " [16647.484375  ]\n",
            " [16795.09179688]\n",
            " [16757.9765625 ]\n",
            " [16439.6796875 ]\n",
            " [16906.3046875 ]\n",
            " [16817.53515625]\n",
            " [16830.34179688]\n",
            " [16796.953125  ]\n",
            " [16847.75585938]\n",
            " [16841.98632812]\n",
            " [16919.8046875 ]\n",
            " [16717.17382812]\n",
            " [16552.57226562]\n",
            " [16642.34179688]\n",
            " [16602.5859375 ]\n",
            " [16547.49609375]\n",
            " [16625.08007812]\n",
            " [16688.47070312]\n",
            " [16679.85742188]\n",
            " [16863.23828125]\n",
            " [16836.73632812]\n",
            " [16951.96875   ]\n",
            " [16955.078125  ]\n",
            " [17091.14453125]\n",
            " [17196.5546875 ]\n",
            " [17446.29296875]\n",
            " [17934.89648438]\n",
            " [18869.58789062]\n",
            " [19909.57421875]\n",
            " [20976.29882812]\n",
            " [20880.79882812]\n",
            " [21169.6328125 ]\n",
            " [21161.51953125]\n",
            " [20688.78125   ]\n",
            " [21086.79296875]\n",
            " [22676.55273438]\n",
            " [22777.625     ]\n",
            " [22720.41601562]\n",
            " [22934.43164062]\n",
            " [22636.46875   ]\n",
            " [23117.859375  ]\n",
            " [23032.77734375]\n",
            " [23078.72851562]\n",
            " [23031.08984375]\n",
            " [23774.56640625]\n",
            " [22840.13867188]\n",
            " [23139.28320312]\n",
            " [23723.76953125]\n",
            " [23471.87109375]\n",
            " [23449.32226562]\n",
            " [23331.84765625]\n",
            " [22955.66601562]\n",
            " [22760.109375  ]\n",
            " [23264.29101562]\n",
            " [22939.3984375 ]\n",
            " [21819.0390625 ]\n",
            " [21651.18359375]\n",
            " [21870.875     ]\n",
            " [21788.203125  ]\n",
            " [21808.1015625 ]\n",
            " [22220.8046875 ]\n",
            " [24307.84179688]\n",
            " [23623.47460938]\n",
            " [24565.6015625 ]\n",
            " [24641.27734375]\n",
            " [24327.64257812]\n",
            " [24829.1484375 ]\n",
            " [24436.35351562]\n",
            " [24188.84375   ]\n",
            " [23947.4921875 ]\n",
            " [23198.12695312]\n",
            " [23175.375     ]\n",
            " [23561.21289062]\n",
            " [23522.87109375]\n",
            " [23147.35351562]\n",
            " [23646.55078125]\n",
            " [23475.46679688]\n",
            " [22362.6796875 ]\n",
            " [22353.34960938]\n",
            " [22435.51367188]\n",
            " [22429.7578125 ]\n",
            " [22219.76953125]\n",
            " [21718.08007812]\n",
            " [20363.02148438]\n",
            " [20187.24414062]\n",
            " [20632.41015625]\n",
            " [22163.94921875]\n",
            " [24197.53320312]\n",
            " [24746.07421875]\n",
            " [24375.9609375 ]\n",
            " [25052.7890625 ]\n",
            " [27423.9296875 ]\n",
            " [26965.87890625]\n",
            " [28038.67578125]\n",
            " [27767.23632812]\n",
            " [28175.81640625]\n",
            " [27307.4375    ]\n",
            " [28333.97265625]\n",
            " [27493.28515625]\n",
            " [27494.70703125]\n",
            " [27994.33007812]\n",
            " [27139.88867188]\n",
            " [27268.13085938]\n",
            " [28348.44140625]\n",
            " [28033.5625    ]\n",
            " [28478.484375  ]\n",
            " [28411.03515625]\n",
            " [28199.30859375]\n",
            " [27790.22070312]\n",
            " [28168.08984375]\n",
            " [28177.984375  ]\n",
            " [28044.140625  ]\n",
            " [27925.859375  ]\n",
            " [27947.79492188]\n",
            " [28333.05078125]\n",
            " [29652.98046875]\n",
            " [30235.05859375]\n",
            " [30139.05273438]\n",
            " [30399.06640625]\n",
            " [30485.69921875]\n",
            " [30318.49609375]\n",
            " [30315.35546875]\n",
            " [29445.04492188]\n",
            " [30397.55273438]\n",
            " [28822.6796875 ]\n",
            " [28245.98828125]\n",
            " [27276.91015625]\n",
            " [27817.5       ]\n",
            " [27591.38476562]\n",
            " [27525.33984375]\n",
            " [28307.59765625]\n",
            " [28422.70117188]\n",
            " [29473.78710938]\n",
            " [29340.26171875]\n",
            " [29248.48828125]\n",
            " [29268.80664062]\n",
            " [28091.56835938]\n",
            " [28680.53710938]\n",
            " [29006.30859375]\n",
            " [28847.7109375 ]\n",
            " [29534.38476562]\n",
            " [28904.62304688]\n",
            " [28454.97851562]\n",
            " [27694.2734375 ]\n",
            " [27658.77539062]\n",
            " [27621.75585938]\n",
            " [27000.7890625 ]\n",
            " [26804.99023438]\n",
            " [26784.078125  ]\n",
            " [26930.63867188]\n",
            " [27192.69335938]\n",
            " [27036.65039062]\n",
            " [27398.80273438]\n",
            " [26832.20898438]\n",
            " [26890.12890625]\n",
            " [27129.5859375 ]\n",
            " [26753.82617188]\n",
            " [26851.27734375]\n",
            " [27225.7265625 ]\n",
            " [26334.81835938]\n",
            " [26476.20703125]\n",
            " [26719.29101562]\n",
            " [26868.35351562]\n",
            " [28085.64648438]\n",
            " [27745.88476562]\n",
            " [27702.34960938]\n",
            " [27219.65820312]\n",
            " [26819.97265625]\n",
            " [27249.58984375]\n",
            " [27075.12890625]\n",
            " [27119.06640625]\n",
            " [25760.09765625]\n",
            " [27238.78320312]\n",
            " [26345.99804688]\n",
            " [26508.21679688]\n",
            " [26480.375     ]\n",
            " [25851.24023438]\n",
            " [25940.16796875]\n",
            " [25902.5       ]\n",
            " [25918.72851562]\n",
            " [25124.67578125]\n",
            " [25576.39453125]\n",
            " [26327.46289062]\n",
            " [26510.67578125]\n",
            " [26336.21289062]\n",
            " [26851.02929688]\n",
            " [28327.48828125]\n",
            " [30027.296875  ]\n",
            " [29912.28125   ]\n",
            " [30695.46875   ]\n",
            " [30548.6953125 ]\n",
            " [30480.26171875]\n",
            " [30271.13085938]\n",
            " [30688.1640625 ]\n",
            " [30086.24609375]\n",
            " [30445.3515625 ]\n",
            " [30477.25195312]\n",
            " [30590.078125  ]\n",
            " [30620.76953125]\n",
            " [31156.43945312]\n",
            " [30777.58203125]\n",
            " [30514.16601562]\n",
            " [29909.33789062]\n",
            " [30342.265625  ]\n",
            " [30292.54101562]\n",
            " [30171.234375  ]\n",
            " [30414.47070312]\n",
            " [30620.95117188]\n",
            " [30391.64648438]\n",
            " [31476.04882812]\n",
            " [30334.06835938]\n",
            " [30295.80664062]\n",
            " [30249.1328125 ]\n",
            " [30145.88867188]\n",
            " [29856.5625    ]\n",
            " [29913.92382812]\n",
            " [29792.015625  ]\n",
            " [29908.74414062]\n",
            " [29771.80273438]\n",
            " [30084.5390625 ]\n",
            " [29176.91601562]\n",
            " [29227.390625  ]\n",
            " [29354.97265625]\n",
            " [29210.68945312]\n",
            " [29319.24609375]\n",
            " [29356.91796875]\n",
            " [29275.30859375]\n",
            " [29230.11132812]\n",
            " [29675.73242188]\n",
            " [29151.95898438]\n",
            " [29178.6796875 ]\n",
            " [29074.09179688]\n",
            " [29042.12695312]\n",
            " [29041.85546875]\n",
            " [29180.578125  ]\n",
            " [29765.4921875 ]\n",
            " [29561.49414062]\n",
            " [29429.59179688]\n",
            " [29397.71484375]\n",
            " [29415.96484375]\n",
            " [29282.9140625 ]\n",
            " [29408.44335938]\n",
            " [29170.34765625]\n",
            " [28701.77929688]\n",
            " [26664.55078125]\n",
            " [26049.55664062]\n",
            " [26096.20507812]\n",
            " [26189.58398438]\n",
            " [26124.140625  ]\n",
            " [26031.65625   ]\n",
            " [26431.640625  ]\n",
            " [26162.37304688]\n",
            " [26047.66796875]\n",
            " [26008.46289062]\n",
            " [26089.69335938]\n",
            " [26106.15039062]\n",
            " [27727.39257812]\n",
            " [27297.265625  ]\n",
            " [25931.47265625]\n",
            " [25800.72460938]\n",
            " [25868.79882812]\n",
            " [25969.56640625]\n",
            " [25812.41601562]\n",
            " [25779.98242188]\n",
            " [25753.23632812]\n",
            " [26240.1953125 ]\n",
            " [25905.65429688]\n",
            " [25895.67773438]\n",
            " [25832.2265625 ]\n",
            " [25162.65429688]\n",
            " [25833.34375   ]\n",
            " [26228.32421875]\n",
            " [26539.67382812]\n",
            " [26608.69335938]\n",
            " [26568.28125   ]\n",
            " [26534.1875    ]\n",
            " [26754.28125   ]\n",
            " [27211.1171875 ]\n",
            " [27132.0078125 ]\n",
            " [26567.6328125 ]\n",
            " [26579.56835938]\n",
            " [26579.390625  ]\n",
            " [26256.82617188]\n",
            " [26298.48046875]\n",
            " [26217.25      ]\n",
            " [26352.71679688]\n",
            " [27021.546875  ]\n",
            " [26911.72070312]\n",
            " [26967.91601562]\n",
            " [27983.75      ]\n",
            " [27530.78515625]\n",
            " [27429.97851562]\n",
            " [27799.39453125]\n",
            " [27415.91210938]\n",
            " [27946.59765625]\n",
            " [27968.83984375]\n",
            " [27935.08984375]\n",
            " [27583.67773438]\n",
            " [27391.01953125]\n",
            " [26873.3203125 ]\n",
            " [26756.79882812]\n",
            " [26862.375     ]\n",
            " [26861.70703125]\n",
            " [27159.65234375]\n",
            " [28519.46679688]\n",
            " [28415.74804688]\n",
            " [28328.34179688]\n",
            " [28719.80664062]\n",
            " [29682.94921875]\n",
            " [29918.41210938]\n",
            " [29993.89648438]\n",
            " [33086.234375  ]\n",
            " [33901.52734375]\n",
            " [34502.8203125 ]\n",
            " [34156.6484375 ]\n",
            " [33909.80078125]\n",
            " [34089.57421875]\n",
            " [34538.48046875]\n",
            " [34502.36328125]\n",
            " [34667.78125   ]\n",
            " [35437.25390625]\n",
            " [34938.2421875 ]\n",
            " [34732.32421875]\n",
            " [35082.1953125 ]\n",
            " [35049.35546875]\n",
            " [35037.37109375]\n",
            " [35443.5625    ]\n",
            " [35655.27734375]\n",
            " [36693.125     ]\n",
            " [37313.96875   ]\n",
            " [37138.05078125]\n",
            " [37054.51953125]\n",
            " [36502.35546875]\n",
            " [35537.640625  ]\n",
            " [37880.58203125]\n",
            " [36154.76953125]\n",
            " [36596.68359375]\n",
            " [36585.703125  ]\n",
            " [37386.546875  ]\n",
            " [37476.95703125]\n",
            " [35813.8125    ]\n",
            " [37432.33984375]\n",
            " [37289.62109375]\n",
            " [37720.28125   ]\n",
            " [37796.79296875]\n",
            " [37479.12109375]\n",
            " [37254.16796875]\n",
            " [37831.0859375 ]\n",
            " [37858.4921875 ]\n",
            " [37712.74609375]\n",
            " [38688.75      ]\n",
            " [39476.33203125]\n",
            " [39978.390625  ]\n",
            " [41980.09765625]\n",
            " [44080.6484375 ]\n",
            " [43746.4453125 ]\n",
            " [43292.6640625 ]\n",
            " [44166.6015625 ]\n",
            " [43725.984375  ]\n",
            " [43779.69921875]\n",
            " [41243.83203125]\n",
            " [41450.22265625]\n",
            " [42890.7421875 ]\n",
            " [43023.97265625]\n",
            " [41929.7578125 ]\n",
            " [42240.1171875 ]\n",
            " [41364.6640625 ]\n",
            " [42623.5390625 ]\n",
            " [42270.52734375]\n",
            " [43652.25      ]\n",
            " [43869.15234375]\n",
            " [43997.90234375]\n",
            " [43739.54296875]\n",
            " [43016.1171875 ]\n",
            " [43613.140625  ]\n",
            " [42520.40234375]\n",
            " [43442.85546875]\n",
            " [42627.85546875]\n",
            " [42099.40234375]\n",
            " [42156.90234375]\n",
            " [42265.1875    ]\n",
            " [44167.33203125]\n",
            " [44957.96875   ]\n",
            " [42848.17578125]\n",
            " [44179.921875  ]\n",
            " [44162.69140625]\n",
            " [43989.1953125 ]\n",
            " [43943.09765625]\n",
            " [46970.50390625]\n",
            " [46139.73046875]\n",
            " [46627.77734375]\n",
            " [46368.5859375 ]\n",
            " [42853.16796875]\n",
            " [42842.3828125 ]\n",
            " [41796.26953125]\n",
            " [42511.96875   ]\n",
            " [43154.9453125 ]\n",
            " [42742.65234375]\n",
            " [41262.05859375]\n",
            " [41618.40625   ]\n",
            " [41665.5859375 ]\n",
            " [41545.78515625]\n",
            " [39507.3671875 ]\n",
            " [39845.55078125]\n",
            " [40077.07421875]\n",
            " [39933.80859375]\n",
            " [41816.87109375]\n",
            " [42120.0546875 ]\n",
            " [42035.59375   ]\n",
            " [43288.24609375]\n",
            " [42952.609375  ]\n",
            " [42582.60546875]\n",
            " [43075.7734375 ]\n",
            " [43185.859375  ]\n",
            " [42992.25      ]\n",
            " [42583.58203125]\n",
            " [42658.66796875]\n",
            " [43084.671875  ]\n",
            " [44318.22265625]\n",
            " [45301.56640625]\n",
            " [47147.19921875]\n",
            " [47771.27734375]\n",
            " [48293.91796875]\n",
            " [49958.22265625]\n",
            " [49742.44140625]\n",
            " [51826.6953125 ]\n",
            " [51938.5546875 ]\n",
            " [52160.203125  ]\n",
            " [51662.99609375]\n",
            " [52122.546875  ]\n",
            " [51779.14453125]\n",
            " [52284.875     ]\n",
            " [51839.1796875 ]\n",
            " [51304.97265625]\n",
            " [50731.94921875]\n",
            " [51571.1015625 ]\n",
            " [51733.23828125]\n",
            " [54522.40234375]\n",
            " [57085.37109375]\n",
            " [62504.7890625 ]\n",
            " [61198.3828125 ]\n",
            " [62440.6328125 ]\n",
            " [62029.84765625]\n",
            " [63167.37109375]\n",
            " [68330.4140625 ]\n",
            " [63801.19921875]\n",
            " [66106.8046875 ]\n",
            " [66925.484375  ]\n",
            " [68300.09375   ]\n",
            " [68498.8828125 ]\n",
            " [69019.7890625 ]\n",
            " [72123.90625   ]\n",
            " [71481.2890625 ]\n",
            " [73083.5       ]\n",
            " [71396.59375   ]\n",
            " [69403.7734375 ]\n",
            " [65315.1171875 ]\n",
            " [68390.625     ]\n",
            " [67548.59375   ]\n",
            " [61912.7734375 ]\n",
            " [67913.671875  ]\n",
            " [65491.390625  ]\n",
            " [63778.76171875]\n",
            " [64062.203125  ]\n",
            " [67234.171875  ]\n",
            " [69958.8125    ]\n",
            " [69987.8359375 ]\n",
            " [69455.34375   ]\n",
            " [70744.953125  ]\n",
            " [69892.828125  ]\n",
            " [69645.3046875 ]\n",
            " [71333.6484375 ]\n",
            " [69702.1484375 ]\n",
            " [65446.97265625]\n",
            " [65980.8125    ]\n",
            " [68508.84375   ]\n",
            " [67837.640625  ]\n",
            " [68896.109375  ]\n",
            " [69362.5546875 ]\n",
            " [71631.359375  ]\n",
            " [69139.015625  ]\n",
            " [70587.8828125 ]\n",
            " [70060.609375  ]\n",
            " [67195.8671875 ]\n",
            " [63821.47265625]\n",
            " [65738.7265625 ]\n",
            " [63426.2109375 ]\n",
            " [63811.86328125]\n",
            " [61276.69140625]\n",
            " [63512.75390625]\n",
            " [63843.5703125 ]\n",
            " [64994.44140625]\n",
            " [64926.64453125]\n",
            " [66837.6796875 ]\n",
            " [66407.2734375 ]\n",
            " [64276.8984375 ]\n",
            " [64481.70703125]\n",
            " [63755.3203125 ]\n",
            " [63419.140625  ]\n",
            " [63113.23046875]\n",
            " [63841.12109375]\n",
            " [60636.85546875]\n",
            " [58254.01171875]\n",
            " [59123.43359375]\n",
            " [62889.8359375 ]\n",
            " [63891.47265625]\n",
            " [64031.1328125 ]\n",
            " [63161.94921875]\n",
            " [62334.81640625]\n",
            " [61187.94140625]\n",
            " [63049.9609375 ]\n",
            " [60792.77734375]\n",
            " [60793.7109375 ]\n",
            " [61448.39453125]\n",
            " [62901.44921875]\n",
            " [61552.7890625 ]\n",
            " [66267.4921875 ]\n",
            " [65231.58203125]\n",
            " [67051.875     ]\n",
            " [66940.8046875 ]\n",
            " [66278.3671875 ]\n",
            " [71448.1953125 ]\n",
            " [70136.53125   ]\n",
            " [69122.3359375 ]\n",
            " [67929.5625    ]\n",
            " [68526.1015625 ]\n",
            " [69265.9453125 ]\n",
            " [68518.09375   ]\n",
            " [69394.5546875 ]\n",
            " [68296.21875   ]\n",
            " [67578.09375   ]\n",
            " [68364.9921875 ]\n",
            " [67491.4140625 ]\n",
            " [67706.9375    ]\n",
            " [67751.6015625 ]\n",
            " [68804.78125   ]\n",
            " [70567.765625  ]\n",
            " [71082.8203125 ]\n",
            " [70757.1640625 ]\n",
            " [69342.5859375 ]\n",
            " [69305.7734375 ]\n",
            " [69647.9921875 ]\n",
            " [69512.28125   ]\n",
            " [67332.03125   ]\n",
            " [68241.1875    ]\n",
            " [66756.3984375 ]\n",
            " [66011.09375   ]\n",
            " [66191.        ]\n",
            " [66639.046875  ]\n",
            " [66490.296875  ]\n",
            " [65140.74609375]\n",
            " [64960.296875  ]\n",
            " [64828.65625   ]\n",
            " [64096.19921875]\n",
            " [64252.578125  ]\n",
            " [63180.796875  ]\n",
            " [60277.4140625 ]\n",
            " [61804.640625  ]\n",
            " [60811.27734375]\n",
            " [61604.80078125]\n",
            " [60320.13671875]\n",
            " [60887.37890625]\n",
            " [62678.29296875]\n",
            " [62851.98046875]\n",
            " [62029.015625  ]\n",
            " [60173.921875  ]\n",
            " [56977.703125  ]\n",
            " [56662.375     ]\n",
            " [58303.5390625 ]\n",
            " [55849.109375  ]\n",
            " [56705.09765625]\n",
            " [58009.2265625 ]\n",
            " [57742.49609375]\n",
            " [57344.9140625 ]\n",
            " [57899.46484375]\n",
            " [59231.953125  ]\n",
            " [60787.79296875]\n",
            " [64870.15234375]\n",
            " [65097.1484375 ]\n",
            " [64118.79296875]\n",
            " [63974.06640625]\n",
            " [66710.15625   ]\n",
            " [67163.6484375 ]\n",
            " [68154.5234375 ]\n",
            " [67585.25      ]\n",
            " [65927.671875  ]\n",
            " [65372.1328125 ]\n",
            " [65777.2265625 ]\n",
            " [67912.0625    ]\n",
            " [67813.3359375 ]\n",
            " [68255.8671875 ]\n",
            " [66819.9140625 ]\n",
            " [66201.015625  ]\n",
            " [64619.25      ]\n",
            " [65357.5       ]\n",
            " [61415.06640625]\n",
            " [60680.09375   ]\n",
            " [58116.9765625 ]\n",
            " [53991.45703125]\n",
            " [56034.31640625]\n",
            " [55027.4609375 ]\n",
            " [61710.13671875]\n",
            " [60880.11328125]\n",
            " [60945.8125    ]\n",
            " [58719.484375  ]\n",
            " [59354.515625  ]\n",
            " [60609.56640625]\n",
            " [58737.26953125]\n",
            " [57560.09765625]\n",
            " [58894.10546875]\n",
            " [59478.97265625]\n",
            " [58483.96484375]\n",
            " [59493.453125  ]\n",
            " [59012.79296875]\n",
            " [61175.19140625]\n",
            " [60381.9140625 ]\n",
            " [64094.35546875]\n",
            " [64178.9921875 ]\n",
            " [64333.54296875]\n",
            " [62880.66015625]\n",
            " [59504.1328125 ]\n",
            " [59027.625     ]\n",
            " [59388.1796875 ]\n",
            " [59119.4765625 ]\n",
            " [58969.8984375 ]\n",
            " [57325.48828125]\n",
            " [59112.48046875]\n",
            " [57431.0234375 ]\n",
            " [57971.5390625 ]\n",
            " [56160.48828125]\n",
            " [53948.75390625]\n",
            " [54139.6875    ]\n",
            " [54841.56640625]\n",
            " [57019.53515625]\n",
            " [57648.7109375 ]\n",
            " [57343.171875  ]\n",
            " [58127.01171875]\n",
            " [60571.30078125]\n",
            " [60005.12109375]\n",
            " [59182.8359375 ]\n",
            " [58192.5078125 ]\n",
            " [60308.5390625 ]\n",
            " [61649.6796875 ]\n",
            " [62940.45703125]\n",
            " [63192.9765625 ]\n",
            " [63394.83984375]\n",
            " [63648.7109375 ]\n",
            " [63329.80078125]\n",
            " [64301.96875   ]\n",
            " [63143.14453125]\n",
            " [65181.01953125]\n",
            " [65790.6640625 ]\n",
            " [65887.6484375 ]\n",
            " [65635.3046875 ]\n",
            " [63329.5       ]\n",
            " [60837.0078125 ]\n",
            " [60632.78515625]\n",
            " [60759.40234375]\n",
            " [62067.4765625 ]\n",
            " [62089.94921875]\n",
            " [62818.953125  ]\n",
            " [62236.66015625]\n",
            " [62131.96875   ]\n",
            " [60582.1015625 ]\n",
            " [60274.5       ]\n",
            " [62445.08984375]\n",
            " [63193.0234375 ]\n",
            " [62851.375     ]\n",
            " [66046.125     ]\n",
            " [67041.109375  ]\n",
            " [67612.71875   ]\n",
            " [67399.8359375 ]\n",
            " [68418.7890625 ]\n",
            " [68362.734375  ]\n",
            " [69001.703125  ]\n",
            " [67367.8515625 ]\n",
            " [67361.40625   ]\n",
            " [66432.1953125 ]\n",
            " [68161.0546875 ]\n",
            " [66642.4140625 ]\n",
            " [67014.6953125 ]\n",
            " [67929.296875  ]\n",
            " [69907.7578125 ]\n",
            " [72720.4921875 ]\n",
            " [72339.5390625 ]\n",
            " [70215.1875    ]\n",
            " [69482.46875   ]]\n",
            "\n"
          ]
        },
        {
          "output_type": "execute_result",
          "data": {
            "text/plain": [
              "(739, 60, 1)"
            ]
          },
          "metadata": {},
          "execution_count": 19
        }
      ],
      "source": [
        "test_data = dataset[training_data_len - 60:, :]\n",
        "#Create the testing dataset\n",
        "y_test = dataset[training_data_len:, :]\n",
        "X_test = []\n",
        "\n",
        "for i in range(60, len(test_data)):\n",
        "    X_test.append(test_data[i-60:i, 0])\n",
        "\n",
        "    if i <= 60:\n",
        "        print(X_test)\n",
        "        print(y_test)\n",
        "        print()\n",
        "X_test = np.array(X_test)\n",
        "X_test = np.reshape(X_test, (X_test.shape[0], X_test.shape[1], 1))\n",
        "X_test.shape"
      ]
    },
    {
      "cell_type": "code",
      "execution_count": 20,
      "metadata": {
        "colab": {
          "base_uri": "https://localhost:8080/"
        },
        "id": "CWXYJaRCog3D",
        "outputId": "2b732047-f567-4158-fe23-90e4437d3f07"
      },
      "outputs": [
        {
          "output_type": "stream",
          "name": "stderr",
          "text": [
            "/usr/local/lib/python3.10/dist-packages/keras/src/layers/rnn/rnn.py:204: UserWarning: Do not pass an `input_shape`/`input_dim` argument to a layer. When using Sequential models, prefer using an `Input(shape)` object as the first layer in the model instead.\n",
            "  super().__init__(**kwargs)\n"
          ]
        }
      ],
      "source": [
        "# Build the Deep LSTM model\n",
        "tf.random.set_seed(42)\n",
        "model = Sequential()\n",
        "model.add(LSTM(50, return_sequences=True, input_shape=(X_train_augmente.shape[1], 1)))\n",
        "model.add(Dropout(0.1))  # Adding a Dropout layer to prevent overfitting\n",
        "model.add(LSTM(50, return_sequences=True))\n",
        "model.add(Dropout(0.1))\n",
        "model.add(LSTM(50, return_sequences=False))\n",
        "model.add(Dropout(0.1))\n",
        "model.add(Dense(25))\n",
        "model.add(Dense(1))"
      ]
    },
    {
      "cell_type": "code",
      "execution_count": 21,
      "metadata": {
        "id": "eWOtXTpVo20J",
        "colab": {
          "base_uri": "https://localhost:8080/",
          "height": 385
        },
        "outputId": "7b222ca0-132a-48f1-c892-ef4b20eaf455"
      },
      "outputs": [
        {
          "output_type": "display_data",
          "data": {
            "text/plain": [
              "\u001b[1mModel: \"sequential\"\u001b[0m\n"
            ],
            "text/html": [
              "<pre style=\"white-space:pre;overflow-x:auto;line-height:normal;font-family:Menlo,'DejaVu Sans Mono',consolas,'Courier New',monospace\"><span style=\"font-weight: bold\">Model: \"sequential\"</span>\n",
              "</pre>\n"
            ]
          },
          "metadata": {}
        },
        {
          "output_type": "display_data",
          "data": {
            "text/plain": [
              "┏━━━━━━━━━━━━━━━━━━━━━━━━━━━━━━━━━━━━━━┳━━━━━━━━━━━━━━━━━━━━━━━━━━━━━┳━━━━━━━━━━━━━━━━━┓\n",
              "┃\u001b[1m \u001b[0m\u001b[1mLayer (type)                        \u001b[0m\u001b[1m \u001b[0m┃\u001b[1m \u001b[0m\u001b[1mOutput Shape               \u001b[0m\u001b[1m \u001b[0m┃\u001b[1m \u001b[0m\u001b[1m        Param #\u001b[0m\u001b[1m \u001b[0m┃\n",
              "┡━━━━━━━━━━━━━━━━━━━━━━━━━━━━━━━━━━━━━━╇━━━━━━━━━━━━━━━━━━━━━━━━━━━━━╇━━━━━━━━━━━━━━━━━┩\n",
              "│ lstm (\u001b[38;5;33mLSTM\u001b[0m)                          │ (\u001b[38;5;45mNone\u001b[0m, \u001b[38;5;34m60\u001b[0m, \u001b[38;5;34m50\u001b[0m)              │          \u001b[38;5;34m10,400\u001b[0m │\n",
              "├──────────────────────────────────────┼─────────────────────────────┼─────────────────┤\n",
              "│ dropout (\u001b[38;5;33mDropout\u001b[0m)                    │ (\u001b[38;5;45mNone\u001b[0m, \u001b[38;5;34m60\u001b[0m, \u001b[38;5;34m50\u001b[0m)              │               \u001b[38;5;34m0\u001b[0m │\n",
              "├──────────────────────────────────────┼─────────────────────────────┼─────────────────┤\n",
              "│ lstm_1 (\u001b[38;5;33mLSTM\u001b[0m)                        │ (\u001b[38;5;45mNone\u001b[0m, \u001b[38;5;34m60\u001b[0m, \u001b[38;5;34m50\u001b[0m)              │          \u001b[38;5;34m20,200\u001b[0m │\n",
              "├──────────────────────────────────────┼─────────────────────────────┼─────────────────┤\n",
              "│ dropout_1 (\u001b[38;5;33mDropout\u001b[0m)                  │ (\u001b[38;5;45mNone\u001b[0m, \u001b[38;5;34m60\u001b[0m, \u001b[38;5;34m50\u001b[0m)              │               \u001b[38;5;34m0\u001b[0m │\n",
              "├──────────────────────────────────────┼─────────────────────────────┼─────────────────┤\n",
              "│ lstm_2 (\u001b[38;5;33mLSTM\u001b[0m)                        │ (\u001b[38;5;45mNone\u001b[0m, \u001b[38;5;34m50\u001b[0m)                  │          \u001b[38;5;34m20,200\u001b[0m │\n",
              "├──────────────────────────────────────┼─────────────────────────────┼─────────────────┤\n",
              "│ dropout_2 (\u001b[38;5;33mDropout\u001b[0m)                  │ (\u001b[38;5;45mNone\u001b[0m, \u001b[38;5;34m50\u001b[0m)                  │               \u001b[38;5;34m0\u001b[0m │\n",
              "├──────────────────────────────────────┼─────────────────────────────┼─────────────────┤\n",
              "│ dense (\u001b[38;5;33mDense\u001b[0m)                        │ (\u001b[38;5;45mNone\u001b[0m, \u001b[38;5;34m25\u001b[0m)                  │           \u001b[38;5;34m1,275\u001b[0m │\n",
              "├──────────────────────────────────────┼─────────────────────────────┼─────────────────┤\n",
              "│ dense_1 (\u001b[38;5;33mDense\u001b[0m)                      │ (\u001b[38;5;45mNone\u001b[0m, \u001b[38;5;34m1\u001b[0m)                   │              \u001b[38;5;34m26\u001b[0m │\n",
              "└──────────────────────────────────────┴─────────────────────────────┴─────────────────┘\n"
            ],
            "text/html": [
              "<pre style=\"white-space:pre;overflow-x:auto;line-height:normal;font-family:Menlo,'DejaVu Sans Mono',consolas,'Courier New',monospace\">┏━━━━━━━━━━━━━━━━━━━━━━━━━━━━━━━━━━━━━━┳━━━━━━━━━━━━━━━━━━━━━━━━━━━━━┳━━━━━━━━━━━━━━━━━┓\n",
              "┃<span style=\"font-weight: bold\"> Layer (type)                         </span>┃<span style=\"font-weight: bold\"> Output Shape                </span>┃<span style=\"font-weight: bold\">         Param # </span>┃\n",
              "┡━━━━━━━━━━━━━━━━━━━━━━━━━━━━━━━━━━━━━━╇━━━━━━━━━━━━━━━━━━━━━━━━━━━━━╇━━━━━━━━━━━━━━━━━┩\n",
              "│ lstm (<span style=\"color: #0087ff; text-decoration-color: #0087ff\">LSTM</span>)                          │ (<span style=\"color: #00d7ff; text-decoration-color: #00d7ff\">None</span>, <span style=\"color: #00af00; text-decoration-color: #00af00\">60</span>, <span style=\"color: #00af00; text-decoration-color: #00af00\">50</span>)              │          <span style=\"color: #00af00; text-decoration-color: #00af00\">10,400</span> │\n",
              "├──────────────────────────────────────┼─────────────────────────────┼─────────────────┤\n",
              "│ dropout (<span style=\"color: #0087ff; text-decoration-color: #0087ff\">Dropout</span>)                    │ (<span style=\"color: #00d7ff; text-decoration-color: #00d7ff\">None</span>, <span style=\"color: #00af00; text-decoration-color: #00af00\">60</span>, <span style=\"color: #00af00; text-decoration-color: #00af00\">50</span>)              │               <span style=\"color: #00af00; text-decoration-color: #00af00\">0</span> │\n",
              "├──────────────────────────────────────┼─────────────────────────────┼─────────────────┤\n",
              "│ lstm_1 (<span style=\"color: #0087ff; text-decoration-color: #0087ff\">LSTM</span>)                        │ (<span style=\"color: #00d7ff; text-decoration-color: #00d7ff\">None</span>, <span style=\"color: #00af00; text-decoration-color: #00af00\">60</span>, <span style=\"color: #00af00; text-decoration-color: #00af00\">50</span>)              │          <span style=\"color: #00af00; text-decoration-color: #00af00\">20,200</span> │\n",
              "├──────────────────────────────────────┼─────────────────────────────┼─────────────────┤\n",
              "│ dropout_1 (<span style=\"color: #0087ff; text-decoration-color: #0087ff\">Dropout</span>)                  │ (<span style=\"color: #00d7ff; text-decoration-color: #00d7ff\">None</span>, <span style=\"color: #00af00; text-decoration-color: #00af00\">60</span>, <span style=\"color: #00af00; text-decoration-color: #00af00\">50</span>)              │               <span style=\"color: #00af00; text-decoration-color: #00af00\">0</span> │\n",
              "├──────────────────────────────────────┼─────────────────────────────┼─────────────────┤\n",
              "│ lstm_2 (<span style=\"color: #0087ff; text-decoration-color: #0087ff\">LSTM</span>)                        │ (<span style=\"color: #00d7ff; text-decoration-color: #00d7ff\">None</span>, <span style=\"color: #00af00; text-decoration-color: #00af00\">50</span>)                  │          <span style=\"color: #00af00; text-decoration-color: #00af00\">20,200</span> │\n",
              "├──────────────────────────────────────┼─────────────────────────────┼─────────────────┤\n",
              "│ dropout_2 (<span style=\"color: #0087ff; text-decoration-color: #0087ff\">Dropout</span>)                  │ (<span style=\"color: #00d7ff; text-decoration-color: #00d7ff\">None</span>, <span style=\"color: #00af00; text-decoration-color: #00af00\">50</span>)                  │               <span style=\"color: #00af00; text-decoration-color: #00af00\">0</span> │\n",
              "├──────────────────────────────────────┼─────────────────────────────┼─────────────────┤\n",
              "│ dense (<span style=\"color: #0087ff; text-decoration-color: #0087ff\">Dense</span>)                        │ (<span style=\"color: #00d7ff; text-decoration-color: #00d7ff\">None</span>, <span style=\"color: #00af00; text-decoration-color: #00af00\">25</span>)                  │           <span style=\"color: #00af00; text-decoration-color: #00af00\">1,275</span> │\n",
              "├──────────────────────────────────────┼─────────────────────────────┼─────────────────┤\n",
              "│ dense_1 (<span style=\"color: #0087ff; text-decoration-color: #0087ff\">Dense</span>)                      │ (<span style=\"color: #00d7ff; text-decoration-color: #00d7ff\">None</span>, <span style=\"color: #00af00; text-decoration-color: #00af00\">1</span>)                   │              <span style=\"color: #00af00; text-decoration-color: #00af00\">26</span> │\n",
              "└──────────────────────────────────────┴─────────────────────────────┴─────────────────┘\n",
              "</pre>\n"
            ]
          },
          "metadata": {}
        },
        {
          "output_type": "display_data",
          "data": {
            "text/plain": [
              "\u001b[1m Total params: \u001b[0m\u001b[38;5;34m52,101\u001b[0m (203.52 KB)\n"
            ],
            "text/html": [
              "<pre style=\"white-space:pre;overflow-x:auto;line-height:normal;font-family:Menlo,'DejaVu Sans Mono',consolas,'Courier New',monospace\"><span style=\"font-weight: bold\"> Total params: </span><span style=\"color: #00af00; text-decoration-color: #00af00\">52,101</span> (203.52 KB)\n",
              "</pre>\n"
            ]
          },
          "metadata": {}
        },
        {
          "output_type": "display_data",
          "data": {
            "text/plain": [
              "\u001b[1m Trainable params: \u001b[0m\u001b[38;5;34m52,101\u001b[0m (203.52 KB)\n"
            ],
            "text/html": [
              "<pre style=\"white-space:pre;overflow-x:auto;line-height:normal;font-family:Menlo,'DejaVu Sans Mono',consolas,'Courier New',monospace\"><span style=\"font-weight: bold\"> Trainable params: </span><span style=\"color: #00af00; text-decoration-color: #00af00\">52,101</span> (203.52 KB)\n",
              "</pre>\n"
            ]
          },
          "metadata": {}
        },
        {
          "output_type": "display_data",
          "data": {
            "text/plain": [
              "\u001b[1m Non-trainable params: \u001b[0m\u001b[38;5;34m0\u001b[0m (0.00 B)\n"
            ],
            "text/html": [
              "<pre style=\"white-space:pre;overflow-x:auto;line-height:normal;font-family:Menlo,'DejaVu Sans Mono',consolas,'Courier New',monospace\"><span style=\"font-weight: bold\"> Non-trainable params: </span><span style=\"color: #00af00; text-decoration-color: #00af00\">0</span> (0.00 B)\n",
              "</pre>\n"
            ]
          },
          "metadata": {}
        }
      ],
      "source": [
        "# Compile the model\n",
        "model.compile(optimizer='adam', loss='mean_squared_error')\n",
        "model.summary()"
      ]
    },
    {
      "cell_type": "code",
      "execution_count": 22,
      "metadata": {
        "colab": {
          "base_uri": "https://localhost:8080/"
        },
        "id": "Rp3P2H7so9hq",
        "outputId": "07686b83-272a-4ba8-f861-3a3ba89a8396"
      },
      "outputs": [
        {
          "output_type": "stream",
          "name": "stdout",
          "text": [
            "Epoch 1/10\n",
            "\u001b[1m2900/2900\u001b[0m \u001b[32m━━━━━━━━━━━━━━━━━━━━\u001b[0m\u001b[37m\u001b[0m \u001b[1m142s\u001b[0m 46ms/step - loss: 431657664.0000\n",
            "Epoch 2/10\n",
            "\u001b[1m2900/2900\u001b[0m \u001b[32m━━━━━━━━━━━━━━━━━━━━\u001b[0m\u001b[37m\u001b[0m \u001b[1m144s\u001b[0m 47ms/step - loss: 312479744.0000\n",
            "Epoch 3/10\n",
            "\u001b[1m2900/2900\u001b[0m \u001b[32m━━━━━━━━━━━━━━━━━━━━\u001b[0m\u001b[37m\u001b[0m \u001b[1m138s\u001b[0m 45ms/step - loss: 283106112.0000\n",
            "Epoch 4/10\n",
            "\u001b[1m2900/2900\u001b[0m \u001b[32m━━━━━━━━━━━━━━━━━━━━\u001b[0m\u001b[37m\u001b[0m \u001b[1m141s\u001b[0m 45ms/step - loss: 279965376.0000\n",
            "Epoch 5/10\n",
            "\u001b[1m2900/2900\u001b[0m \u001b[32m━━━━━━━━━━━━━━━━━━━━\u001b[0m\u001b[37m\u001b[0m \u001b[1m132s\u001b[0m 45ms/step - loss: 281423936.0000\n",
            "Epoch 6/10\n",
            "\u001b[1m2900/2900\u001b[0m \u001b[32m━━━━━━━━━━━━━━━━━━━━\u001b[0m\u001b[37m\u001b[0m \u001b[1m146s\u001b[0m 47ms/step - loss: 280291904.0000\n",
            "Epoch 7/10\n",
            "\u001b[1m2900/2900\u001b[0m \u001b[32m━━━━━━━━━━━━━━━━━━━━\u001b[0m\u001b[37m\u001b[0m \u001b[1m138s\u001b[0m 46ms/step - loss: 279439200.0000\n",
            "Epoch 8/10\n",
            "\u001b[1m2900/2900\u001b[0m \u001b[32m━━━━━━━━━━━━━━━━━━━━\u001b[0m\u001b[37m\u001b[0m \u001b[1m132s\u001b[0m 46ms/step - loss: 280011200.0000\n",
            "Epoch 9/10\n",
            "\u001b[1m2900/2900\u001b[0m \u001b[32m━━━━━━━━━━━━━━━━━━━━\u001b[0m\u001b[37m\u001b[0m \u001b[1m142s\u001b[0m 45ms/step - loss: 279620672.0000\n",
            "Epoch 10/10\n",
            "\u001b[1m2900/2900\u001b[0m \u001b[32m━━━━━━━━━━━━━━━━━━━━\u001b[0m\u001b[37m\u001b[0m \u001b[1m141s\u001b[0m 45ms/step - loss: 279488128.0000\n"
          ]
        }
      ],
      "source": [
        "# Train the model with augmented data\n",
        "callback = tf.keras.callbacks.EarlyStopping(monitor='loss', patience=5)\n",
        "history = model.fit(X_train, y_train, batch_size=1, epochs=10, callbacks=[callback])\n"
      ]
    },
    {
      "cell_type": "code",
      "execution_count": 23,
      "metadata": {
        "id": "yfVJ1X2YeDN5",
        "colab": {
          "base_uri": "https://localhost:8080/"
        },
        "outputId": "b59ee089-e9d5-4f15-aafb-a724cccc2724"
      },
      "outputs": [
        {
          "output_type": "stream",
          "name": "stdout",
          "text": [
            "\u001b[1m24/24\u001b[0m \u001b[32m━━━━━━━━━━━━━━━━━━━━\u001b[0m\u001b[37m\u001b[0m \u001b[1m2s\u001b[0m 46ms/step\n"
          ]
        },
        {
          "output_type": "execute_result",
          "data": {
            "text/plain": [
              "739"
            ]
          },
          "metadata": {},
          "execution_count": 23
        }
      ],
      "source": [
        "# Get the model predicted price values\n",
        "predictions = model.predict(X_test)\n",
        "predictions = scaler.inverse_transform(predictions)\n",
        "len(predictions)"
      ]
    },
    {
      "cell_type": "code",
      "source": [
        "# Calculate RMSE\n",
        "rmse = np.sqrt(np.mean(predictions - y_test)**2)\n",
        "print('Root Mean Squared Error:', rmse)"
      ],
      "metadata": {
        "colab": {
          "base_uri": "https://localhost:8080/"
        },
        "id": "HByfkQP6EPCI",
        "outputId": "95f89555-e6d0-4a40-9f14-990a8576390d"
      },
      "execution_count": 24,
      "outputs": [
        {
          "output_type": "stream",
          "name": "stdout",
          "text": [
            "Root Mean Squared Error: 259768629.4773871\n"
          ]
        }
      ]
    },
    {
      "cell_type": "code",
      "source": [
        "# Let's plot the history of model_1 and see what's going on\n",
        "historyForPlot = pd.DataFrame(history.history)\n",
        "historyForPlot.index += 1 # we plus 1 to the number of indexing so our epochs Plot picture will be counting from 1 not 0.\n",
        "historyForPlot.plot()\n",
        "plt.ylabel(\"loss\")\n",
        "plt.xlabel(\"epochs\")"
      ],
      "metadata": {
        "colab": {
          "base_uri": "https://localhost:8080/",
          "height": 482
        },
        "id": "_4uUhKbjJvv0",
        "outputId": "790db996-cd26-4b15-89a9-e5075d11f0a3"
      },
      "execution_count": 25,
      "outputs": [
        {
          "output_type": "execute_result",
          "data": {
            "text/plain": [
              "Text(0.5, 0, 'epochs')"
            ]
          },
          "metadata": {},
          "execution_count": 25
        },
        {
          "output_type": "display_data",
          "data": {
            "text/plain": [
              "<Figure size 640x480 with 1 Axes>"
            ],
            "image/png": "[encoded data removed]"
          },
          "metadata": {}
        }
      ]
    },
    {
      "cell_type": "code",
      "source": [
        "# Plot the data\n",
        "train = data[:training_data_len]\n"
      ],
      "metadata": {
        "id": "h-YveJAw04b1"
      },
      "execution_count": 26,
      "outputs": []
    },
    {
      "cell_type": "code",
      "source": [
        "# Create the valid dataset\n",
        "valid_1 = data[training_data_len:].copy()  # Make sure to create a copy of the slice\n",
        "valid_1 = pd.DataFrame(valid_1)  # Ensure it's a DataFrame"
      ],
      "metadata": {
        "id": "TcUdBaCZ1GJP"
      },
      "execution_count": 27,
      "outputs": []
    },
    {
      "cell_type": "code",
      "source": [
        "train.shape"
      ],
      "metadata": {
        "colab": {
          "base_uri": "https://localhost:8080/"
        },
        "id": "1pm5NlKlc_ME",
        "outputId": "fbd79f2e-dc88-43d0-e940-ab57e482163a"
      },
      "execution_count": 28,
      "outputs": [
        {
          "output_type": "execute_result",
          "data": {
            "text/plain": [
              "(2960, 1)"
            ]
          },
          "metadata": {},
          "execution_count": 28
        }
      ]
    },
    {
      "cell_type": "code",
      "source": [
        "valid_1.shape"
      ],
      "metadata": {
        "colab": {
          "base_uri": "https://localhost:8080/"
        },
        "id": "o92lqbeggaiq",
        "outputId": "70b3744b-5b42-4da2-9d53-74d99a16ca07"
      },
      "execution_count": 30,
      "outputs": [
        {
          "output_type": "execute_result",
          "data": {
            "text/plain": [
              "(739, 2)"
            ]
          },
          "metadata": {},
          "execution_count": 30
        }
      ]
    },
    {
      "cell_type": "code",
      "source": [
        "# Add predictions to the valid set\n",
        "valid_1['Predictions'] = predictions"
      ],
      "metadata": {
        "id": "mvNyT1SSgWEB"
      },
      "execution_count": 29,
      "outputs": []
    },
    {
      "cell_type": "code",
      "source": [
        "# Visualize the data\n",
        "plt.figure(figsize=(14, 10))\n",
        "plt.subplot(2, 1, 1)\n",
        "plt.title('Model_1 with 10 epochs')\n",
        "plt.xlabel('Data', fontsize=18)\n",
        "plt.ylabel('Close Price USD', fontsize=18)\n",
        "plt.plot(train.index, train['Close'], label='Train')\n",
        "plt.plot(valid_1.index, valid_1['Close'], label='Valid')\n",
        "plt.plot(valid_1.index, valid_1['Predictions'], label='Predictions')\n",
        "\n",
        "plt.legend(loc='upper left')\n",
        "plt.show()"
      ],
      "metadata": {
        "colab": {
          "base_uri": "https://localhost:8080/",
          "height": 992
        },
        "id": "ioG8y_bv1l36",
        "outputId": "571283a5-70e7-4ebc-b17f-889a9e8581a0"
      },
      "execution_count": 31,
      "outputs": [
        {
          "output_type": "error",
          "ename": "KeyError",
          "evalue": "'Close'",
          "traceback": [
            "\u001b[0;31m---------------------------------------------------------------------------\u001b[0m",
            "\u001b[0;31mKeyError\u001b[0m                                  Traceback (most recent call last)",
            "\u001b[0;32m/usr/local/lib/python3.10/dist-packages/pandas/core/indexes/base.py\u001b[0m in \u001b[0;36mget_loc\u001b[0;34m(self, key)\u001b[0m\n\u001b[1;32m   3804\u001b[0m         \u001b[0;32mtry\u001b[0m\u001b[0;34m:\u001b[0m\u001b[0;34m\u001b[0m\u001b[0;34m\u001b[0m\u001b[0m\n\u001b[0;32m-> 3805\u001b[0;31m             \u001b[0;32mreturn\u001b[0m \u001b[0mself\u001b[0m\u001b[0;34m.\u001b[0m\u001b[0m_engine\u001b[0m\u001b[0;34m.\u001b[0m\u001b[0mget_loc\u001b[0m\u001b[0;34m(\u001b[0m\u001b[0mcasted_key\u001b[0m\u001b[0;34m)\u001b[0m\u001b[0;34m\u001b[0m\u001b[0;34m\u001b[0m\u001b[0m\n\u001b[0m\u001b[1;32m   3806\u001b[0m         \u001b[0;32mexcept\u001b[0m \u001b[0mKeyError\u001b[0m \u001b[0;32mas\u001b[0m \u001b[0merr\u001b[0m\u001b[0;34m:\u001b[0m\u001b[0;34m\u001b[0m\u001b[0;34m\u001b[0m\u001b[0m\n",
            "\u001b[0;32mindex.pyx\u001b[0m in \u001b[0;36mpandas._libs.index.IndexEngine.get_loc\u001b[0;34m()\u001b[0m\n",
            "\u001b[0;32mindex.pyx\u001b[0m in \u001b[0;36mpandas._libs.index.IndexEngine.get_loc\u001b[0;34m()\u001b[0m\n",
            "\u001b[0;32mpandas/_libs/hashtable_class_helper.pxi\u001b[0m in \u001b[0;36mpandas._libs.hashtable.PyObjectHashTable.get_item\u001b[0;34m()\u001b[0m\n",
            "\u001b[0;32mpandas/_libs/hashtable_class_helper.pxi\u001b[0m in \u001b[0;36mpandas._libs.hashtable.PyObjectHashTable.get_item\u001b[0;34m()\u001b[0m\n",
            "\u001b[0;31mKeyError\u001b[0m: 'Close'",
            "\nThe above exception was the direct cause of the following exception:\n",
            "\u001b[0;31mKeyError\u001b[0m                                  Traceback (most recent call last)",
            "\u001b[0;32m<ipython-input-31-a3ff01df69e9>\u001b[0m in \u001b[0;36m<cell line: 7>\u001b[0;34m()\u001b[0m\n\u001b[1;32m      5\u001b[0m \u001b[0mplt\u001b[0m\u001b[0;34m.\u001b[0m\u001b[0mxlabel\u001b[0m\u001b[0;34m(\u001b[0m\u001b[0;34m'Data'\u001b[0m\u001b[0;34m,\u001b[0m \u001b[0mfontsize\u001b[0m\u001b[0;34m=\u001b[0m\u001b[0;36m18\u001b[0m\u001b[0;34m)\u001b[0m\u001b[0;34m\u001b[0m\u001b[0;34m\u001b[0m\u001b[0m\n\u001b[1;32m      6\u001b[0m \u001b[0mplt\u001b[0m\u001b[0;34m.\u001b[0m\u001b[0mylabel\u001b[0m\u001b[0;34m(\u001b[0m\u001b[0;34m'Close Price USD'\u001b[0m\u001b[0;34m,\u001b[0m \u001b[0mfontsize\u001b[0m\u001b[0;34m=\u001b[0m\u001b[0;36m18\u001b[0m\u001b[0;34m)\u001b[0m\u001b[0;34m\u001b[0m\u001b[0;34m\u001b[0m\u001b[0m\n\u001b[0;32m----> 7\u001b[0;31m \u001b[0mplt\u001b[0m\u001b[0;34m.\u001b[0m\u001b[0mplot\u001b[0m\u001b[0;34m(\u001b[0m\u001b[0mtrain\u001b[0m\u001b[0;34m.\u001b[0m\u001b[0mindex\u001b[0m\u001b[0;34m,\u001b[0m \u001b[0mtrain\u001b[0m\u001b[0;34m[\u001b[0m\u001b[0;34m'Close'\u001b[0m\u001b[0;34m]\u001b[0m\u001b[0;34m,\u001b[0m \u001b[0mlabel\u001b[0m\u001b[0;34m=\u001b[0m\u001b[0;34m'Train'\u001b[0m\u001b[0;34m)\u001b[0m\u001b[0;34m\u001b[0m\u001b[0;34m\u001b[0m\u001b[0m\n\u001b[0m\u001b[1;32m      8\u001b[0m \u001b[0mplt\u001b[0m\u001b[0;34m.\u001b[0m\u001b[0mplot\u001b[0m\u001b[0;34m(\u001b[0m\u001b[0mvalid_1\u001b[0m\u001b[0;34m.\u001b[0m\u001b[0mindex\u001b[0m\u001b[0;34m,\u001b[0m \u001b[0mvalid_1\u001b[0m\u001b[0;34m[\u001b[0m\u001b[0;34m'Close'\u001b[0m\u001b[0;34m]\u001b[0m\u001b[0;34m,\u001b[0m \u001b[0mlabel\u001b[0m\u001b[0;34m=\u001b[0m\u001b[0;34m'Valid'\u001b[0m\u001b[0;34m)\u001b[0m\u001b[0;34m\u001b[0m\u001b[0;34m\u001b[0m\u001b[0m\n\u001b[1;32m      9\u001b[0m \u001b[0mplt\u001b[0m\u001b[0;34m.\u001b[0m\u001b[0mplot\u001b[0m\u001b[0;34m(\u001b[0m\u001b[0mvalid_1\u001b[0m\u001b[0;34m.\u001b[0m\u001b[0mindex\u001b[0m\u001b[0;34m,\u001b[0m \u001b[0mvalid_1\u001b[0m\u001b[0;34m[\u001b[0m\u001b[0;34m'Predictions'\u001b[0m\u001b[0;34m]\u001b[0m\u001b[0;34m,\u001b[0m \u001b[0mlabel\u001b[0m\u001b[0;34m=\u001b[0m\u001b[0;34m'Predictions'\u001b[0m\u001b[0;34m)\u001b[0m\u001b[0;34m\u001b[0m\u001b[0;34m\u001b[0m\u001b[0m\n",
            "\u001b[0;32m/usr/local/lib/python3.10/dist-packages/pandas/core/frame.py\u001b[0m in \u001b[0;36m__getitem__\u001b[0;34m(self, key)\u001b[0m\n\u001b[1;32m   4100\u001b[0m             \u001b[0;32mif\u001b[0m \u001b[0mself\u001b[0m\u001b[0;34m.\u001b[0m\u001b[0mcolumns\u001b[0m\u001b[0;34m.\u001b[0m\u001b[0mnlevels\u001b[0m \u001b[0;34m>\u001b[0m \u001b[0;36m1\u001b[0m\u001b[0;34m:\u001b[0m\u001b[0;34m\u001b[0m\u001b[0;34m\u001b[0m\u001b[0m\n\u001b[1;32m   4101\u001b[0m                 \u001b[0;32mreturn\u001b[0m \u001b[0mself\u001b[0m\u001b[0;34m.\u001b[0m\u001b[0m_getitem_multilevel\u001b[0m\u001b[0;34m(\u001b[0m\u001b[0mkey\u001b[0m\u001b[0;34m)\u001b[0m\u001b[0;34m\u001b[0m\u001b[0;34m\u001b[0m\u001b[0m\n\u001b[0;32m-> 4102\u001b[0;31m             \u001b[0mindexer\u001b[0m \u001b[0;34m=\u001b[0m \u001b[0mself\u001b[0m\u001b[0;34m.\u001b[0m\u001b[0mcolumns\u001b[0m\u001b[0;34m.\u001b[0m\u001b[0mget_loc\u001b[0m\u001b[0;34m(\u001b[0m\u001b[0mkey\u001b[0m\u001b[0;34m)\u001b[0m\u001b[0;34m\u001b[0m\u001b[0;34m\u001b[0m\u001b[0m\n\u001b[0m\u001b[1;32m   4103\u001b[0m             \u001b[0;32mif\u001b[0m \u001b[0mis_integer\u001b[0m\u001b[0;34m(\u001b[0m\u001b[0mindexer\u001b[0m\u001b[0;34m)\u001b[0m\u001b[0;34m:\u001b[0m\u001b[0;34m\u001b[0m\u001b[0;34m\u001b[0m\u001b[0m\n\u001b[1;32m   4104\u001b[0m                 \u001b[0mindexer\u001b[0m \u001b[0;34m=\u001b[0m \u001b[0;34m[\u001b[0m\u001b[0mindexer\u001b[0m\u001b[0;34m]\u001b[0m\u001b[0;34m\u001b[0m\u001b[0;34m\u001b[0m\u001b[0m\n",
            "\u001b[0;32m/usr/local/lib/python3.10/dist-packages/pandas/core/indexes/base.py\u001b[0m in \u001b[0;36mget_loc\u001b[0;34m(self, key)\u001b[0m\n\u001b[1;32m   3810\u001b[0m             ):\n\u001b[1;32m   3811\u001b[0m                 \u001b[0;32mraise\u001b[0m \u001b[0mInvalidIndexError\u001b[0m\u001b[0;34m(\u001b[0m\u001b[0mkey\u001b[0m\u001b[0;34m)\u001b[0m\u001b[0;34m\u001b[0m\u001b[0;34m\u001b[0m\u001b[0m\n\u001b[0;32m-> 3812\u001b[0;31m             \u001b[0;32mraise\u001b[0m \u001b[0mKeyError\u001b[0m\u001b[0;34m(\u001b[0m\u001b[0mkey\u001b[0m\u001b[0;34m)\u001b[0m \u001b[0;32mfrom\u001b[0m \u001b[0merr\u001b[0m\u001b[0;34m\u001b[0m\u001b[0;34m\u001b[0m\u001b[0m\n\u001b[0m\u001b[1;32m   3813\u001b[0m         \u001b[0;32mexcept\u001b[0m \u001b[0mTypeError\u001b[0m\u001b[0;34m:\u001b[0m\u001b[0;34m\u001b[0m\u001b[0;34m\u001b[0m\u001b[0m\n\u001b[1;32m   3814\u001b[0m             \u001b[0;31m# If we have a listlike key, _check_indexing_error will raise\u001b[0m\u001b[0;34m\u001b[0m\u001b[0;34m\u001b[0m\u001b[0m\n",
            "\u001b[0;31mKeyError\u001b[0m: 'Close'"
          ]
        },
        {
          "output_type": "display_data",
          "data": {
            "text/plain": [
              "<Figure size 1400x1000 with 1 Axes>"
            ],
            "image/png": "[encoded data removed]"
          },
          "metadata": {}
        }
      ]
    },
    {
      "cell_type": "code",
      "source": [
        "# Plotting\n",
        "plt.figure(figsize=(7, 4))\n",
        "plt.title('Deep LSTM Model Predictions')\n",
        "plt.xlabel('Date', fontsize=10)\n",
        "plt.ylabel('Close Price USD', fontsize=10)\n",
        "\n",
        "# Use the correct column name\n",
        "plt.plot(train.index, train['Close'], label='Train')\n",
        "plt.plot(valid_1.index, valid_1['Close'], label='Valid')\n",
        "plt.plot(valid_1.index, valid_1['Predictions'], label='Predictions')  # Uncomment this line to show predictions\n",
        "\n",
        "plt.legend(loc='upper left')\n",
        "plt.show()"
      ],
      "metadata": {
        "colab": {
          "base_uri": "https://localhost:8080/",
          "height": 940
        },
        "id": "YO7y3hqw1Mn7",
        "outputId": "142f1205-96b8-4d46-8475-b4c22f9b8e70"
      },
      "execution_count": 32,
      "outputs": [
        {
          "output_type": "error",
          "ename": "KeyError",
          "evalue": "'Close'",
          "traceback": [
            "\u001b[0;31m---------------------------------------------------------------------------\u001b[0m",
            "\u001b[0;31mKeyError\u001b[0m                                  Traceback (most recent call last)",
            "\u001b[0;32m/usr/local/lib/python3.10/dist-packages/pandas/core/indexes/base.py\u001b[0m in \u001b[0;36mget_loc\u001b[0;34m(self, key)\u001b[0m\n\u001b[1;32m   3804\u001b[0m         \u001b[0;32mtry\u001b[0m\u001b[0;34m:\u001b[0m\u001b[0;34m\u001b[0m\u001b[0;34m\u001b[0m\u001b[0m\n\u001b[0;32m-> 3805\u001b[0;31m             \u001b[0;32mreturn\u001b[0m \u001b[0mself\u001b[0m\u001b[0;34m.\u001b[0m\u001b[0m_engine\u001b[0m\u001b[0;34m.\u001b[0m\u001b[0mget_loc\u001b[0m\u001b[0;34m(\u001b[0m\u001b[0mcasted_key\u001b[0m\u001b[0;34m)\u001b[0m\u001b[0;34m\u001b[0m\u001b[0;34m\u001b[0m\u001b[0m\n\u001b[0m\u001b[1;32m   3806\u001b[0m         \u001b[0;32mexcept\u001b[0m \u001b[0mKeyError\u001b[0m \u001b[0;32mas\u001b[0m \u001b[0merr\u001b[0m\u001b[0;34m:\u001b[0m\u001b[0;34m\u001b[0m\u001b[0;34m\u001b[0m\u001b[0m\n",
            "\u001b[0;32mindex.pyx\u001b[0m in \u001b[0;36mpandas._libs.index.IndexEngine.get_loc\u001b[0;34m()\u001b[0m\n",
            "\u001b[0;32mindex.pyx\u001b[0m in \u001b[0;36mpandas._libs.index.IndexEngine.get_loc\u001b[0;34m()\u001b[0m\n",
            "\u001b[0;32mpandas/_libs/hashtable_class_helper.pxi\u001b[0m in \u001b[0;36mpandas._libs.hashtable.PyObjectHashTable.get_item\u001b[0;34m()\u001b[0m\n",
            "\u001b[0;32mpandas/_libs/hashtable_class_helper.pxi\u001b[0m in \u001b[0;36mpandas._libs.hashtable.PyObjectHashTable.get_item\u001b[0;34m()\u001b[0m\n",
            "\u001b[0;31mKeyError\u001b[0m: 'Close'",
            "\nThe above exception was the direct cause of the following exception:\n",
            "\u001b[0;31mKeyError\u001b[0m                                  Traceback (most recent call last)",
            "\u001b[0;32m<ipython-input-32-6acc6d352e7b>\u001b[0m in \u001b[0;36m<cell line: 8>\u001b[0;34m()\u001b[0m\n\u001b[1;32m      6\u001b[0m \u001b[0;34m\u001b[0m\u001b[0m\n\u001b[1;32m      7\u001b[0m \u001b[0;31m# Use the correct column name\u001b[0m\u001b[0;34m\u001b[0m\u001b[0;34m\u001b[0m\u001b[0m\n\u001b[0;32m----> 8\u001b[0;31m \u001b[0mplt\u001b[0m\u001b[0;34m.\u001b[0m\u001b[0mplot\u001b[0m\u001b[0;34m(\u001b[0m\u001b[0mtrain\u001b[0m\u001b[0;34m.\u001b[0m\u001b[0mindex\u001b[0m\u001b[0;34m,\u001b[0m \u001b[0mtrain\u001b[0m\u001b[0;34m[\u001b[0m\u001b[0;34m'Close'\u001b[0m\u001b[0;34m]\u001b[0m\u001b[0;34m,\u001b[0m \u001b[0mlabel\u001b[0m\u001b[0;34m=\u001b[0m\u001b[0;34m'Train'\u001b[0m\u001b[0;34m)\u001b[0m\u001b[0;34m\u001b[0m\u001b[0;34m\u001b[0m\u001b[0m\n\u001b[0m\u001b[1;32m      9\u001b[0m \u001b[0mplt\u001b[0m\u001b[0;34m.\u001b[0m\u001b[0mplot\u001b[0m\u001b[0;34m(\u001b[0m\u001b[0mvalid_1\u001b[0m\u001b[0;34m.\u001b[0m\u001b[0mindex\u001b[0m\u001b[0;34m,\u001b[0m \u001b[0mvalid_1\u001b[0m\u001b[0;34m[\u001b[0m\u001b[0;34m'Close'\u001b[0m\u001b[0;34m]\u001b[0m\u001b[0;34m,\u001b[0m \u001b[0mlabel\u001b[0m\u001b[0;34m=\u001b[0m\u001b[0;34m'Valid'\u001b[0m\u001b[0;34m)\u001b[0m\u001b[0;34m\u001b[0m\u001b[0;34m\u001b[0m\u001b[0m\n\u001b[1;32m     10\u001b[0m \u001b[0mplt\u001b[0m\u001b[0;34m.\u001b[0m\u001b[0mplot\u001b[0m\u001b[0;34m(\u001b[0m\u001b[0mvalid_1\u001b[0m\u001b[0;34m.\u001b[0m\u001b[0mindex\u001b[0m\u001b[0;34m,\u001b[0m \u001b[0mvalid_1\u001b[0m\u001b[0;34m[\u001b[0m\u001b[0;34m'Predictions'\u001b[0m\u001b[0;34m]\u001b[0m\u001b[0;34m,\u001b[0m \u001b[0mlabel\u001b[0m\u001b[0;34m=\u001b[0m\u001b[0;34m'Predictions'\u001b[0m\u001b[0;34m)\u001b[0m  \u001b[0;31m# Uncomment this line to show predictions\u001b[0m\u001b[0;34m\u001b[0m\u001b[0;34m\u001b[0m\u001b[0m\n",
            "\u001b[0;32m/usr/local/lib/python3.10/dist-packages/pandas/core/frame.py\u001b[0m in \u001b[0;36m__getitem__\u001b[0;34m(self, key)\u001b[0m\n\u001b[1;32m   4100\u001b[0m             \u001b[0;32mif\u001b[0m \u001b[0mself\u001b[0m\u001b[0;34m.\u001b[0m\u001b[0mcolumns\u001b[0m\u001b[0;34m.\u001b[0m\u001b[0mnlevels\u001b[0m \u001b[0;34m>\u001b[0m \u001b[0;36m1\u001b[0m\u001b[0;34m:\u001b[0m\u001b[0;34m\u001b[0m\u001b[0;34m\u001b[0m\u001b[0m\n\u001b[1;32m   4101\u001b[0m                 \u001b[0;32mreturn\u001b[0m \u001b[0mself\u001b[0m\u001b[0;34m.\u001b[0m\u001b[0m_getitem_multilevel\u001b[0m\u001b[0;34m(\u001b[0m\u001b[0mkey\u001b[0m\u001b[0;34m)\u001b[0m\u001b[0;34m\u001b[0m\u001b[0;34m\u001b[0m\u001b[0m\n\u001b[0;32m-> 4102\u001b[0;31m             \u001b[0mindexer\u001b[0m \u001b[0;34m=\u001b[0m \u001b[0mself\u001b[0m\u001b[0;34m.\u001b[0m\u001b[0mcolumns\u001b[0m\u001b[0;34m.\u001b[0m\u001b[0mget_loc\u001b[0m\u001b[0;34m(\u001b[0m\u001b[0mkey\u001b[0m\u001b[0;34m)\u001b[0m\u001b[0;34m\u001b[0m\u001b[0;34m\u001b[0m\u001b[0m\n\u001b[0m\u001b[1;32m   4103\u001b[0m             \u001b[0;32mif\u001b[0m \u001b[0mis_integer\u001b[0m\u001b[0;34m(\u001b[0m\u001b[0mindexer\u001b[0m\u001b[0;34m)\u001b[0m\u001b[0;34m:\u001b[0m\u001b[0;34m\u001b[0m\u001b[0;34m\u001b[0m\u001b[0m\n\u001b[1;32m   4104\u001b[0m                 \u001b[0mindexer\u001b[0m \u001b[0;34m=\u001b[0m \u001b[0;34m[\u001b[0m\u001b[0mindexer\u001b[0m\u001b[0;34m]\u001b[0m\u001b[0;34m\u001b[0m\u001b[0;34m\u001b[0m\u001b[0m\n",
            "\u001b[0;32m/usr/local/lib/python3.10/dist-packages/pandas/core/indexes/base.py\u001b[0m in \u001b[0;36mget_loc\u001b[0;34m(self, key)\u001b[0m\n\u001b[1;32m   3810\u001b[0m             ):\n\u001b[1;32m   3811\u001b[0m                 \u001b[0;32mraise\u001b[0m \u001b[0mInvalidIndexError\u001b[0m\u001b[0;34m(\u001b[0m\u001b[0mkey\u001b[0m\u001b[0;34m)\u001b[0m\u001b[0;34m\u001b[0m\u001b[0;34m\u001b[0m\u001b[0m\n\u001b[0;32m-> 3812\u001b[0;31m             \u001b[0;32mraise\u001b[0m \u001b[0mKeyError\u001b[0m\u001b[0;34m(\u001b[0m\u001b[0mkey\u001b[0m\u001b[0;34m)\u001b[0m \u001b[0;32mfrom\u001b[0m \u001b[0merr\u001b[0m\u001b[0;34m\u001b[0m\u001b[0;34m\u001b[0m\u001b[0m\n\u001b[0m\u001b[1;32m   3813\u001b[0m         \u001b[0;32mexcept\u001b[0m \u001b[0mTypeError\u001b[0m\u001b[0;34m:\u001b[0m\u001b[0;34m\u001b[0m\u001b[0;34m\u001b[0m\u001b[0m\n\u001b[1;32m   3814\u001b[0m             \u001b[0;31m# If we have a listlike key, _check_indexing_error will raise\u001b[0m\u001b[0;34m\u001b[0m\u001b[0;34m\u001b[0m\u001b[0m\n",
            "\u001b[0;31mKeyError\u001b[0m: 'Close'"
          ]
        },
        {
          "output_type": "display_data",
          "data": {
            "text/plain": [
              "<Figure size 700x400 with 1 Axes>"
            ],
            "image/png": "[encoded data removed]"
          },
          "metadata": {}
        }
      ]
    }
  ],
  "metadata": {
    "colab": {
      "provenance": [],
      "gpuType": "T4",
      "authorship_tag": "ABX9TyMl10qpELC1gLTpkCxqeLAI",
      "include_colab_link": true
    },
    "kernelspec": {
      "display_name": "Python 3",
      "name": "python3"
    },
    "language_info": {
      "name": "python"
    },
    "accelerator": "GPU"
  },
  "nbformat": 4,
  "nbformat_minor": 0
}